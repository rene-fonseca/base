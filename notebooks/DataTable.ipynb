{
 "cells": [
  {
   "cell_type": "markdown",
   "metadata": {},
   "source": [
    "## Data Example"
   ]
  },
  {
   "cell_type": "code",
   "execution_count": 1,
   "metadata": {},
   "outputs": [],
   "source": [
    "#include <base/net/HTTPSRequest.h>\n",
    "#include <base/data/DataTable.h>\n",
    "#include <base/Jupyter.h>"
   ]
  },
  {
   "cell_type": "code",
   "execution_count": 2,
   "metadata": {},
   "outputs": [],
   "source": [
    "using namespace base;"
   ]
  },
  {
   "cell_type": "markdown",
   "metadata": {},
   "source": [
    "Get some data."
   ]
  },
  {
   "cell_type": "code",
   "execution_count": 3,
   "metadata": {},
   "outputs": [],
   "source": [
    "auto response = HTTPSRequest::load(\"https://support.staffbase.com/hc/en-us/article_attachments/360009197031/username.csv\")"
   ]
  },
  {
   "cell_type": "code",
   "execution_count": 4,
   "metadata": {},
   "outputs": [
    {
     "data": {
      "text/html": [
       "<table><tr><th colspan=\"2\" style=\"text-align: center\">base::Pair<base::String, base::String></th></tr><tr><td style=\"text-align: right\">base::String</td><td style=\"text-align: left\">Username; Identifier;First name;Last name\n",
       "booker12;9012;Rachel;Booker\n",
       "grey07;2070;Laura;Grey\n",
       "johnson81;4081;Craig;Johnson\n",
       "jenkins46;9346;Mary;Jenkins\n",
       "smith79;5079;Jamie;Smith\n",
       "\n",
       "</td></tr><tr><td style=\"text-align: right\">base::String</td><td style=\"text-align: left\">text/csv</td></tr><table>"
      ]
     },
     "execution_count": 4,
     "metadata": {},
     "output_type": "execute_result"
    }
   ],
   "source": [
    "response"
   ]
  },
  {
   "cell_type": "code",
   "execution_count": 5,
   "metadata": {},
   "outputs": [],
   "source": [
    "auto dt = DataTable::loadFromString(response.getFirst(), {\n",
    "  {\"Username\", DataTable::TYPE_STRING},\n",
    "  {\"ID\", DataTable::TYPE_STRING},\n",
    "  {\"First Name\", DataTable::TYPE_STRING},\n",
    "  {\"Last Name\", DataTable::TYPE_STRING}\n",
    "}, DataTable::Config().setHeader(DataTable::HEADER_SKIP).setSeparator(';'))"
   ]
  },
  {
   "cell_type": "code",
   "execution_count": 6,
   "metadata": {},
   "outputs": [
    {
     "data": {
      "text/html": [
       "<table><tr><th style=\"text-align: right\">Index</th><th style=\"text-align: left\">Username</th><th style=\"text-align: left\">ID</th><th style=\"text-align: left\">First Name</th><th style=\"text-align: left\">Last Name</th></tr><tr><td style=\"text-align: right\">0</td><td style=\"text-align: left\">booker12</td><td style=\"text-align: left\">9012</td><td style=\"text-align: left\">Rachel</td><td style=\"text-align: left\">Booker</td></tr><tr><td style=\"text-align: right\">1</td><td style=\"text-align: left\">grey07</td><td style=\"text-align: left\">2070</td><td style=\"text-align: left\">Laura</td><td style=\"text-align: left\">Grey</td></tr><tr><td style=\"text-align: right\">2</td><td style=\"text-align: left\">johnson81</td><td style=\"text-align: left\">4081</td><td style=\"text-align: left\">Craig</td><td style=\"text-align: left\">Johnson</td></tr><table>"
      ]
     },
     "execution_count": 6,
     "metadata": {},
     "output_type": "execute_result"
    }
   ],
   "source": [
    "dt.head(3)"
   ]
  },
  {
   "cell_type": "code",
   "execution_count": 7,
   "metadata": {},
   "outputs": [
    {
     "data": {
      "text/html": [
       "<table><tr><th style=\"text-align: right\">Index</th><th style=\"text-align: left\">Username</th><th style=\"text-align: left\">ID</th><th style=\"text-align: left\">First Name</th><th style=\"text-align: left\">Last Name</th></tr><tr><td style=\"text-align: right\">2</td><td style=\"text-align: left\">johnson81</td><td style=\"text-align: left\">4081</td><td style=\"text-align: left\">Craig</td><td style=\"text-align: left\">Johnson</td></tr><tr><td style=\"text-align: right\">3</td><td style=\"text-align: left\">jenkins46</td><td style=\"text-align: left\">9346</td><td style=\"text-align: left\">Mary</td><td style=\"text-align: left\">Jenkins</td></tr><tr><td style=\"text-align: right\">4</td><td style=\"text-align: left\">smith79</td><td style=\"text-align: left\">5079</td><td style=\"text-align: left\">Jamie</td><td style=\"text-align: left\">Smith</td></tr><table>"
      ]
     },
     "execution_count": 7,
     "metadata": {},
     "output_type": "execute_result"
    }
   ],
   "source": [
    "dt.tail(3)"
   ]
  },
  {
   "cell_type": "code",
   "execution_count": 8,
   "metadata": {},
   "outputs": [
    {
     "data": {
      "text/html": [
       "<table><tr><th style=\"text-align: right\">Index</th><th style=\"text-align: left\">Year</th><th style=\"text-align: left\">Make</th><th style=\"text-align: left\">Model</th><th style=\"text-align: left\">Description</th><th style=\"text-align: left\">Price</th></tr><tr><td style=\"text-align: right\">0</td><td style=\"text-align: left\">1997</td><td style=\"text-align: left\">Ford</td><td style=\"text-align: left\">E350</td><td style=\"text-align: left\">ac, abs, moon</td><td style=\"text-align: left\">3000.00</td></tr><tr><td style=\"text-align: right\">1</td><td style=\"text-align: left\">1999</td><td style=\"text-align: left\">Chevy</td><td style=\"text-align: left\">Venture &quot;Extended Edition&quot;</td><td style=\"text-align: left\"></td><td style=\"text-align: left\">4900.00</td></tr><tr><td style=\"text-align: right\">2</td><td style=\"text-align: left\">1999</td><td style=\"text-align: left\">Chevy</td><td style=\"text-align: left\">Venture &quot;Extended Edition, Very Large&quot;</td><td style=\"text-align: left\"></td><td style=\"text-align: left\">5000.00</td></tr><tr><td style=\"text-align: right\">3</td><td style=\"text-align: left\">1996</td><td style=\"text-align: left\">Jeep</td><td style=\"text-align: left\">Grand Cherokee</td><td style=\"text-align: left\">MUST SELL! air, moon roof, loaded</td><td style=\"text-align: left\">4799.00</td></tr><table>"
      ]
     },
     "metadata": {},
     "output_type": "display_data"
    }
   ],
   "source": [
    "// https://en.wikipedia.org/wiki/Comma-separated_values#Example\n",
    "const String d1 = R\"(\n",
    "Year,Make,Model,Description,Price\n",
    "1997,Ford,E350,\"ac, abs, moon\",3000.00\n",
    "1999,Chevy,\"Venture \"\"Extended Edition\"\"\",\"\",4900.00\n",
    "1999,Chevy,\"Venture \"\"Extended Edition, Very Large\"\"\",,5000.00\n",
    "1996,Jeep,Grand Cherokee,\"MUST SELL! air, moon roof, loaded\",4799.00)\";\n",
    "\n",
    "try {\n",
    "  Jupyter::display(DataTable::loadFromString(d1, {\n",
    "    {\"\", \"string\"},\n",
    "    {\"\", \"string\"},\n",
    "    {\"\", \"string\"},\n",
    "    {\"\", \"string\"},\n",
    "    {\"\", \"string\"}\n",
    "  }, DataTable::Config().setHeader(DataTable::HEADER_USE).setSeparator(',')));\n",
    "} catch (Exception& e) {\n",
    "  ferr << e << ENDL;\n",
    "}"
   ]
  }
 ],
 "metadata": {
  "kernelspec": {
   "display_name": "C++17",
   "language": "C++17",
   "name": "xcpp17"
  },
  "language_info": {
   "codemirror_mode": "text/x-c++src",
   "file_extension": ".cpp",
   "mimetype": "text/x-c++src",
   "name": "c++",
   "version": "17"
  }
 },
 "nbformat": 4,
 "nbformat_minor": 4
}
