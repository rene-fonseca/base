{
 "cells": [
  {
   "cell_type": "code",
   "execution_count": 1,
   "metadata": {},
   "outputs": [],
   "source": [
    "#include <base/media/Media.h>"
   ]
  },
  {
   "cell_type": "code",
   "execution_count": 2,
   "metadata": {},
   "outputs": [],
   "source": [
    "using namespace base;"
   ]
  },
  {
   "cell_type": "code",
   "execution_count": 3,
   "metadata": {},
   "outputs": [
    {
     "data": {
      "text/html": [
       "<h1>This is HTML</h1>"
      ]
     },
     "execution_count": 3,
     "metadata": {},
     "output_type": "execute_result"
    }
   ],
   "source": [
    "display(\"<h1>This is HTML</h1>\", \"text/html\")"
   ]
  },
  {
   "cell_type": "code",
   "execution_count": 4,
   "metadata": {},
   "outputs": [
    {
     "data": {
      "text/markdown": [
       "\n",
       "## This is markdown\n",
       "1. Item 1.\n",
       "2. Item 2.\n",
       "3. Item 3.\n",
       "### Subtitle\n",
       "```cpp\n",
       "int main() {\n",
       "  cout << \"Hello, World!\" << endl;\n",
       "  return 0;\n",
       "}\n",
       "```\n",
       "This is [an example](http://example.com/ \"Title\") inline link.\n",
       "*styled*\n",
       "**styled**\n",
       "_styled_\n",
       "__styled__\n",
       "`styled`\n"
      ]
     },
     "execution_count": 4,
     "metadata": {},
     "output_type": "execute_result"
    }
   ],
   "source": [
    "display(R\"QWERTY(\n",
    "## This is markdown\n",
    "\n",
    "1. Item 1.\n",
    "2. Item 2.\n",
    "3. Item 3.\n",
    "\n",
    "### Subtitle\n",
    "\n",
    "```cpp\n",
    "int main() {\n",
    "  cout << \"Hello, World!\" << endl;\n",
    "  return 0;\n",
    "}\n",
    "```\n",
    "\n",
    "This is [an example](http://example.com/ \"Title\") inline link.\n",
    "\n",
    "*styled*\n",
    "**styled**\n",
    "_styled_\n",
    "__styled__\n",
    "`styled`\n",
    ")QWERTY\", \"text/markdown\")"
   ]
  },
  {
   "cell_type": "code",
   "execution_count": 5,
   "metadata": {},
   "outputs": [],
   "source": [
    "#include <base/Jupyter.h>"
   ]
  },
  {
   "cell_type": "code",
   "execution_count": 6,
   "metadata": {},
   "outputs": [
    {
     "data": {
      "text/html": [
       "<iframe src=\"https://mybinder.org\" width=\"600\" height=\"400\"/>"
      ]
     },
     "execution_count": 6,
     "metadata": {},
     "output_type": "execute_result"
    }
   ],
   "source": [
    "Jupyter::iframe(\"https://mybinder.org\", 600, 400)"
   ]
  },
  {
   "cell_type": "code",
   "execution_count": null,
   "metadata": {},
   "outputs": [],
   "source": []
  },
  {
   "cell_type": "code",
   "execution_count": null,
   "metadata": {},
   "outputs": [],
   "source": []
  }
 ],
 "metadata": {
  "kernelspec": {
   "display_name": "C++11",
   "language": "C++11",
   "name": "xcpp11"
  },
  "language_info": {
   "codemirror_mode": "text/x-c++src",
   "file_extension": ".cpp",
   "mimetype": "text/x-c++src",
   "name": "c++",
   "version": "11"
  }
 },
 "nbformat": 4,
 "nbformat_minor": 4
}
