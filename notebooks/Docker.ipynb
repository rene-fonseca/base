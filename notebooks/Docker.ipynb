{
 "cells": [
  {
   "cell_type": "markdown",
   "metadata": {},
   "source": [
    "## Docker Example"
   ]
  },
  {
   "cell_type": "markdown",
   "metadata": {},
   "source": [
    "BASE provides HTTPSRequest class for doing client-side HTTPS requests."
   ]
  },
  {
   "cell_type": "code",
   "execution_count": 1,
   "metadata": {},
   "outputs": [],
   "source": [
    "#include <base/net/HTTPSRequest.h>\n",
    "#include <base/string/Format.h>"
   ]
  },
  {
   "cell_type": "code",
   "execution_count": 2,
   "metadata": {},
   "outputs": [],
   "source": [
    "using namespace base;"
   ]
  },
  {
   "cell_type": "code",
   "execution_count": 3,
   "metadata": {},
   "outputs": [],
   "source": [
    "String image = \"renefonseca/wasmtime\";"
   ]
  },
  {
   "cell_type": "markdown",
   "metadata": {},
   "source": [
    "Get tags from Docker for given image."
   ]
  },
  {
   "cell_type": "code",
   "execution_count": 4,
   "metadata": {},
   "outputs": [],
   "source": [
    "auto response = HTTPSRequest::load(\"https://registry.hub.docker.com/v1/repositories/%1/tags\" % Subst(image))"
   ]
  },
  {
   "cell_type": "code",
   "execution_count": 5,
   "metadata": {},
   "outputs": [
    {
     "data": {
      "text/html": [
       "<table><tr><th colspan=\"2\" style=\"text-align: center\">base::Pair<base::String, base::String></th></tr><tr><td style=\"text-align: right\">base::String</td><td style=\"text-align: left\">[{&quot;layer&quot;: &quot;&quot;, &quot;name&quot;: &quot;latest&quot;}, {&quot;layer&quot;: &quot;&quot;, &quot;name&quot;: &quot;0.8.0&quot;}, {&quot;layer&quot;: &quot;&quot;, &quot;name&quot;: &quot;v0.10.0&quot;}, {&quot;layer&quot;: &quot;&quot;, &quot;name&quot;: &quot;v0.11.0&quot;}, {&quot;layer&quot;: &quot;&quot;, &quot;name&quot;: &quot;v0.8.0&quot;}, {&quot;layer&quot;: &quot;&quot;, &quot;name&quot;: &quot;v0.9.0&quot;}]</td></tr><tr><td style=\"text-align: right\">base::String</td><td style=\"text-align: left\">application/json</td></tr><table>"
      ]
     },
     "execution_count": 5,
     "metadata": {},
     "output_type": "execute_result"
    }
   ],
   "source": [
    "response"
   ]
  },
  {
   "cell_type": "code",
   "execution_count": 6,
   "metadata": {},
   "outputs": [],
   "source": [
    "#include <base/objectmodel/JSON.h>\n",
    "#include <base/string/FormatOutputStream.h>"
   ]
  },
  {
   "cell_type": "markdown",
   "metadata": {},
   "source": [
    "Parse result from Docker."
   ]
  },
  {
   "cell_type": "code",
   "execution_count": 7,
   "metadata": {},
   "outputs": [
    {
     "name": "stdout",
     "output_type": "stream",
     "text": [
      "[\n",
      "  {\n",
      "    \u001b[1m\u001b[31m\"layer\"\u001b[0m\u001b[0m: \u001b[31m\"\"\u001b[0m,\n",
      "    \u001b[1m\u001b[31m\"name\"\u001b[0m\u001b[0m: \u001b[31m\"latest\"\u001b[0m\n",
      "  },\n",
      "  {\n",
      "    \u001b[1m\u001b[31m\"layer\"\u001b[0m\u001b[0m: \u001b[31m\"\"\u001b[0m,\n",
      "    \u001b[1m\u001b[31m\"name\"\u001b[0m\u001b[0m: \u001b[31m\"0.8.0\"\u001b[0m\n",
      "  },\n",
      "  {\n",
      "    \u001b[1m\u001b[31m\"layer\"\u001b[0m\u001b[0m: \u001b[31m\"\"\u001b[0m,\n",
      "    \u001b[1m\u001b[31m\"name\"\u001b[0m\u001b[0m: \u001b[31m\"v0.10.0\"\u001b[0m\n",
      "  },\n",
      "  {\n",
      "    \u001b[1m\u001b[31m\"layer\"\u001b[0m\u001b[0m: \u001b[31m\"\"\u001b[0m,\n",
      "    \u001b[1m\u001b[31m\"name\"\u001b[0m\u001b[0m: \u001b[31m\"v0.11.0\"\u001b[0m\n",
      "  },\n",
      "  {\n",
      "    \u001b[1m\u001b[31m\"layer\"\u001b[0m\u001b[0m: \u001b[31m\"\"\u001b[0m,\n",
      "    \u001b[1m\u001b[31m\"name\"\u001b[0m\u001b[0m: \u001b[31m\"v0.8.0\"\u001b[0m\n",
      "  },\n",
      "  {\n",
      "    \u001b[1m\u001b[31m\"layer\"\u001b[0m\u001b[0m: \u001b[31m\"\"\u001b[0m,\n",
      "    \u001b[1m\u001b[31m\"name\"\u001b[0m\u001b[0m: \u001b[31m\"v0.9.0\"\u001b[0m\n",
      "  }\n",
      "]\n"
     ]
    }
   ],
   "source": [
    "{\n",
    "  Reference<ObjectModel::Value> r;\n",
    "  try {\n",
    "    r = JSON().parse(response.getFirst());\n",
    "  } catch (...) {\n",
    "    ferr << \"Response is not valid JSON.\";\n",
    "  }\n",
    "  if (r) {\n",
    "    auto data = JSON::getJSON(r, ObjectModel::DEFAULT_FORMATTING | ObjectModel::FLAG_COLOR);\n",
    "    fout << data << ENDL;\n",
    "  }\n",
    "}"
   ]
  },
  {
   "cell_type": "code",
   "execution_count": null,
   "metadata": {},
   "outputs": [],
   "source": []
  }
 ],
 "metadata": {
  "kernelspec": {
   "display_name": "C++17",
   "language": "C++17",
   "name": "xcpp17"
  },
  "language_info": {
   "codemirror_mode": "text/x-c++src",
   "file_extension": ".cpp",
   "mimetype": "text/x-c++src",
   "name": "c++",
   "version": "17"
  }
 },
 "nbformat": 4,
 "nbformat_minor": 4
}
