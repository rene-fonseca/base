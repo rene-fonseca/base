{
 "cells": [
  {
   "cell_type": "markdown",
   "metadata": {},
   "source": [
    "## HTTPS Request"
   ]
  },
  {
   "cell_type": "markdown",
   "metadata": {},
   "source": [
    "BASE provides HTTPSRequest class for doing client-side HTTPS requests."
   ]
  },
  {
   "cell_type": "code",
   "execution_count": 1,
   "metadata": {},
   "outputs": [],
   "source": [
    "#include <base/net/HTTPSRequest.h>"
   ]
  },
  {
   "cell_type": "code",
   "execution_count": 2,
   "metadata": {},
   "outputs": [],
   "source": [
    "using namespace base;"
   ]
  },
  {
   "cell_type": "code",
   "execution_count": 3,
   "metadata": {},
   "outputs": [],
   "source": [
    "auto request = HTTPSRequest();"
   ]
  },
  {
   "cell_type": "markdown",
   "metadata": {},
   "source": [
    "First we connect to the service."
   ]
  },
  {
   "cell_type": "code",
   "execution_count": 4,
   "metadata": {},
   "outputs": [
    {
     "data": {
      "text/plain": [
       "true"
      ]
     },
     "execution_count": 4,
     "metadata": {},
     "output_type": "execute_result"
    }
   ],
   "source": [
    "request.open(\"GET\", \"https://azure.microsoft.com/\")"
   ]
  },
  {
   "cell_type": "markdown",
   "metadata": {},
   "source": [
    "Next send send the request."
   ]
  },
  {
   "cell_type": "code",
   "execution_count": 5,
   "metadata": {},
   "outputs": [],
   "source": [
    "request.send()"
   ]
  },
  {
   "cell_type": "code",
   "execution_count": 6,
   "metadata": {},
   "outputs": [
    {
     "data": {
      "text/plain": [
       "200"
      ]
     },
     "execution_count": 6,
     "metadata": {},
     "output_type": "execute_result"
    }
   ],
   "source": [
    "request.getStatus()"
   ]
  },
  {
   "cell_type": "code",
   "execution_count": 7,
   "metadata": {},
   "outputs": [
    {
     "data": {
      "text/plain": [
       "\"HTTP/1.1 200 OK\""
      ]
     },
     "execution_count": 7,
     "metadata": {},
     "output_type": "execute_result"
    }
   ],
   "source": [
    "request.getStatusText()"
   ]
  },
  {
   "cell_type": "code",
   "execution_count": 8,
   "metadata": {},
   "outputs": [],
   "source": [
    "#include <base/string/FormatOutputStream.h>"
   ]
  },
  {
   "cell_type": "code",
   "execution_count": 9,
   "metadata": {},
   "outputs": [
    {
     "name": "stdout",
     "output_type": "stream",
     "text": [
      "Content length: 251739\n",
      "Content type: text/html; charset=utf-8\n"
     ]
    }
   ],
   "source": [
    "fout << \"Content length: \" << request.getResponseHeader(\"Content-Length\") << ENDL;\n",
    "fout << \"Content type: \" << request.getResponseHeader(\"Content-Type\") << ENDL;"
   ]
  },
  {
   "cell_type": "code",
   "execution_count": 10,
   "metadata": {},
   "outputs": [],
   "source": [
    "String response = request.getResponse();"
   ]
  },
  {
   "cell_type": "code",
   "execution_count": 11,
   "metadata": {},
   "outputs": [
    {
     "name": "stdout",
     "output_type": "stream",
     "text": [
      "\"\\r\\n\\r\\n\\r\\n<!DOCTYPE html>\\r\\n<html cla\"\n"
     ]
    }
   ],
   "source": [
    "fout << escape(response.substring(0, 32)) << ENDL;"
   ]
  },
  {
   "cell_type": "markdown",
   "metadata": {},
   "source": [
    "Lets try to make a request to a JSON service. Will be an invalid request but we will get a JSON reply."
   ]
  },
  {
   "cell_type": "code",
   "execution_count": 12,
   "metadata": {},
   "outputs": [],
   "source": [
    "auto slackRequest = HTTPSRequest();"
   ]
  },
  {
   "cell_type": "code",
   "execution_count": 13,
   "metadata": {},
   "outputs": [],
   "source": [
    "slackRequest.open(\"POST\", \"https://slack.com/api/chat.postMessage\");"
   ]
  },
  {
   "cell_type": "code",
   "execution_count": 14,
   "metadata": {},
   "outputs": [],
   "source": [
    "slackRequest.setRequestHeader(\"Content-Type\", \"application/json; charset=utf-8\");"
   ]
  },
  {
   "cell_type": "code",
   "execution_count": 15,
   "metadata": {},
   "outputs": [],
   "source": [
    "slackRequest.send()"
   ]
  },
  {
   "cell_type": "code",
   "execution_count": 16,
   "metadata": {},
   "outputs": [
    {
     "data": {
      "text/plain": [
       "\"{\\\"ok\\\":false,\\\"error\\\":\\\"not_authed\\\"}\""
      ]
     },
     "execution_count": 16,
     "metadata": {},
     "output_type": "execute_result"
    }
   ],
   "source": [
    "String slackResponse = slackRequest.getResponse(); slackResponse"
   ]
  },
  {
   "cell_type": "markdown",
   "metadata": {},
   "source": [
    "We can now parse the reponse as JSON."
   ]
  },
  {
   "cell_type": "code",
   "execution_count": 17,
   "metadata": {},
   "outputs": [],
   "source": [
    "#include <base/objectmodel/JSON.h>"
   ]
  },
  {
   "cell_type": "code",
   "execution_count": 18,
   "metadata": {},
   "outputs": [
    {
     "name": "stdout",
     "output_type": "stream",
     "text": [
      "{\n",
      "  \u001b[1m\u001b[31m\"ok\"\u001b[0m\u001b[0m: \u001b[35m\u001b[1mfalse\u001b[0m,\n",
      "  \u001b[1m\u001b[31m\"error\"\u001b[0m\u001b[0m: \u001b[31m\"not_authed\"\u001b[0m\n",
      "}\n"
     ]
    }
   ],
   "source": [
    "{\n",
    "  Reference<ObjectModel::Object> r;\n",
    "  try {\n",
    "    r = JSON().parse(slackResponse).cast<ObjectModel::Object>();\n",
    "  } catch (...) {\n",
    "    ferr << \"Response is not valid JSON.\";\n",
    "  }\n",
    "  if (r) {\n",
    "    auto data = JSON::getJSON(r, ObjectModel::DEFAULT_FORMATTING | ObjectModel::FLAG_COLOR);\n",
    "    fout << data << ENDL;\n",
    "  }\n",
    "}"
   ]
  },
  {
   "cell_type": "code",
   "execution_count": null,
   "metadata": {},
   "outputs": [],
   "source": []
  }
 ],
 "metadata": {
  "kernelspec": {
   "display_name": "C++17",
   "language": "C++17",
   "name": "xcpp17"
  },
  "language_info": {
   "codemirror_mode": "text/x-c++src",
   "file_extension": ".cpp",
   "mimetype": "text/x-c++src",
   "name": "c++",
   "version": "17"
  }
 },
 "nbformat": 4,
 "nbformat_minor": 4
}
