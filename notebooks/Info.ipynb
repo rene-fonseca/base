{
 "cells": [
  {
   "cell_type": "markdown",
   "metadata": {},
   "source": [
    "## System Information\n",
    "\n",
    "BASE is implemented to support many different compilers, operating system, and architectures commonly referred to as platforms. So BASE provides several classes to allow the caller to interrogate the running system."
   ]
  },
  {
   "cell_type": "code",
   "execution_count": 5,
   "metadata": {},
   "outputs": [],
   "source": [
    "#include <base/Version.h>"
   ]
  },
  {
   "cell_type": "code",
   "execution_count": 6,
   "metadata": {},
   "outputs": [],
   "source": [
    "using namespace base;"
   ]
  },
  {
   "cell_type": "code",
   "execution_count": 7,
   "metadata": {},
   "outputs": [
    {
     "name": "stdout",
     "output_type": "stream",
     "text": [
      "BASE framework 0.9.1 r4547 f7a54ebd\n",
      "\n",
      "OS: macOS\n",
      "OS Vendor: Darwin\n",
      "OS System: Darwin\n",
      "OS Release: 19.2.0\n",
      "OS Version: Darwin Kernel Version 19.2.0: Sat Nov  9 03:47:04 PST 2019; root:xnu-6153.61.1~20/RELEASE_X86_64\n",
      "OS Machine: x86_64\n",
      "OS Architecture: x86-64\n",
      "\n",
      "Endianess: Little-endian\n",
      "Float endianess: Little-endian\n",
      "Memory: 64 bit\n",
      "char size: 1 bytes\n",
      "wchar size: 4 bytes\n",
      "short size: 2 bytes\n",
      "int size: 4 bytes\n",
      "long size: 8 bytes\n",
      "long long size: 8 bytes\n",
      "\n",
      "float: IEEE 754 single precision bytes\n",
      "double: IEEE 754 double precision bytes\n",
      "long double: IEEE extended double precision 96 bits with 16 bytes alignment bytes\n",
      "float128: IEEE quadruple precision bytes\n",
      "\n"
     ]
    }
   ],
   "source": [
    "Version::printSystem()"
   ]
  },
  {
   "cell_type": "code",
   "execution_count": null,
   "metadata": {},
   "outputs": [],
   "source": []
  }
 ],
 "metadata": {
  "kernelspec": {
   "display_name": "C++11",
   "language": "C++11",
   "name": "xcpp11"
  },
  "language_info": {
   "codemirror_mode": "text/x-c++src",
   "file_extension": ".cpp",
   "mimetype": "text/x-c++src",
   "name": "c++",
   "version": "11"
  }
 },
 "nbformat": 4,
 "nbformat_minor": 4
}
