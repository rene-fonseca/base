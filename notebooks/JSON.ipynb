{
 "cells": [
  {
   "cell_type": "markdown",
   "metadata": {},
   "source": [
    "## JSON"
   ]
  },
  {
   "cell_type": "code",
   "execution_count": 1,
   "metadata": {},
   "outputs": [],
   "source": [
    "#include <base/objectmodel/JSON.h>"
   ]
  },
  {
   "cell_type": "code",
   "execution_count": 2,
   "metadata": {},
   "outputs": [],
   "source": [
    "using namespace base;"
   ]
  },
  {
   "cell_type": "code",
   "execution_count": 3,
   "metadata": {},
   "outputs": [],
   "source": [
    "const char* JSON1 = R\"JSON(\n",
    "{\n",
    "  \"Image\": {\n",
    "    \"Width\": 800,\n",
    "    \"Height\": 600,\n",
    "    \"Title\": \"View from 15th Floor\",\n",
    "    \"Thumbnail\": {\n",
    "      \"Url\": \"http://www.example.com/image/481989943\",\n",
    "      \"Height\": 125,\n",
    "      \"Width\": 100\n",
    "    },\n",
    "    \"Animated\": false,\n",
    "    \"IDs\": [116, 943, 234, 38793]\n",
    "  }\n",
    "})JSON\";"
   ]
  },
  {
   "cell_type": "code",
   "execution_count": 4,
   "metadata": {},
   "outputs": [
    {
     "data": {
      "application/json": "{\"Image\":{\"Width\":800,\"Height\":600,\"Title\":\"View from 15th Floor\",\"Thumbnail\":{\"Url\":\"http://www.example.com/image/481989943\",\"Height\":125,\"Width\":100},\"Animated\":false,\"IDs\":[116,943,234,38793]}}"
     },
     "execution_count": 4,
     "metadata": {},
     "output_type": "execute_result"
    }
   ],
   "source": [
    "auto root = JSON().parse(JSON1); root"
   ]
  },
  {
   "cell_type": "markdown",
   "metadata": {},
   "source": [
    "You can extract values from the ObjectModel using the getPath() method."
   ]
  },
  {
   "cell_type": "code",
   "execution_count": 5,
   "metadata": {},
   "outputs": [
    {
     "data": {
      "application/json": "\"View from 15th Floor\""
     },
     "execution_count": 5,
     "metadata": {},
     "output_type": "execute_result"
    }
   ],
   "source": [
    "root.cast<ObjectModel::Object>()->getPath(\"/Image/Title\", \"My default.\")"
   ]
  },
  {
   "cell_type": "markdown",
   "metadata": {},
   "source": [
    "Convert to compact JSON format:"
   ]
  },
  {
   "cell_type": "code",
   "execution_count": 6,
   "metadata": {},
   "outputs": [
    {
     "data": {
      "text/plain": [
       "\"{\\\"Image\\\":{\\\"Width\\\":800,\\\"Height\\\":600,\\\"Title\\\":\\\"View from 15th Floor\\\",\\\"Thumbnail\\\":{\\\"Url\\\":\\\"http://www.example.com/image/481989943\\\",\\\"Height\\\":125,\\\"Width\\\":100},\\\"Animated\\\":false,\\\"IDs\\\":[116,943,234,38793]}}\""
      ]
     },
     "execution_count": 6,
     "metadata": {},
     "output_type": "execute_result"
    }
   ],
   "source": [
    "JSON::getJSONNoFormatting(root)"
   ]
  },
  {
   "cell_type": "markdown",
   "metadata": {},
   "source": [
    "Convert object model to indented nice format:"
   ]
  },
  {
   "cell_type": "code",
   "execution_count": 7,
   "metadata": {},
   "outputs": [
    {
     "data": {
      "text/plain": [
       "\"{\\n  \\\"Image\\\": {\\n    \\\"Width\\\": 800,\\n    \\\"Height\\\": 600,\\n    \\\"Title\\\": \\\"View from 15th Floor\\\",\\n    \\\"Thumbnail\\\": {\\n      \\\"Url\\\": \\\"http://www.example.com/image/481989943\\\",\\n      \\\"Height\\\": 125,\\n      \\\"Width\\\": 100\\n    },\\n    \\\"Animated\\\": false,\\n    \\\"IDs\\\": [116, 943, 234, 38793]\\n  }\\n}\""
      ]
     },
     "execution_count": 7,
     "metadata": {},
     "output_type": "execute_result"
    }
   ],
   "source": [
    "JSON::getJSON(root)"
   ]
  },
  {
   "cell_type": "markdown",
   "metadata": {},
   "source": [
    "Print directly to stream:"
   ]
  },
  {
   "cell_type": "code",
   "execution_count": 8,
   "metadata": {},
   "outputs": [
    {
     "name": "stdout",
     "output_type": "stream",
     "text": [
      "{\"Image\":{\"Width\":800,\"Height\":600,\"Title\":\"View from 15th Floor\",\"Thumbnail\":{\"Url\":\"http://www.example.com/image/481989943\",\"Height\":125,\"Width\":100},\"Animated\":false,\"IDs\":[116,943,234,38793]}}\n"
     ]
    }
   ],
   "source": [
    "fout << root << ENDL;"
   ]
  },
  {
   "cell_type": "markdown",
   "metadata": {},
   "source": [
    "You can request explicitly nice formatting:"
   ]
  },
  {
   "cell_type": "code",
   "execution_count": 9,
   "metadata": {},
   "outputs": [
    {
     "name": "stdout",
     "output_type": "stream",
     "text": [
      "{\n",
      "  \"Image\": {\n",
      "    \"Width\": 800,\n",
      "    \"Height\": 600,\n",
      "    \"Title\": \"View from 15th Floor\",\n",
      "    \"Thumbnail\": {\n",
      "      \"Url\": \"http://www.example.com/image/481989943\",\n",
      "      \"Height\": 125,\n",
      "      \"Width\": 100\n",
      "    },\n",
      "    \"Animated\": false,\n",
      "    \"IDs\": [116, 943, 234, 38793]\n",
      "  }\n",
      "}\n"
     ]
    }
   ],
   "source": [
    "{\n",
    "  ObjectModel::NiceFormat niceFormat;\n",
    "  niceFormat.setFlags(ObjectModel::FLAG_INDENT | ObjectModel::FLAG_COLOR | ObjectModel::FLAG_COLOR_RGB);\n",
    "  niceFormat << root << FLUSH;\n",
    "  fout << niceFormat.getString() << ENDL;\n",
    "}"
   ]
  }
 ],
 "metadata": {
  "kernelspec": {
   "display_name": "C++17",
   "language": "C++17",
   "name": "xcpp17"
  },
  "language_info": {
   "codemirror_mode": "text/x-c++src",
   "file_extension": ".cpp",
   "mimetype": "text/x-c++src",
   "name": "c++",
   "version": "17"
  }
 },
 "nbformat": 4,
 "nbformat_minor": 4
}
