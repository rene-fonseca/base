{
 "cells": [
  {
   "cell_type": "markdown",
   "metadata": {},
   "source": [
    "## Jupyter xeus/cling"
   ]
  },
  {
   "cell_type": "code",
   "execution_count": 1,
   "metadata": {},
   "outputs": [],
   "source": [
    "#include <base/Jupyter.h>"
   ]
  },
  {
   "cell_type": "code",
   "execution_count": 2,
   "metadata": {},
   "outputs": [],
   "source": [
    "using namespace base;"
   ]
  },
  {
   "cell_type": "markdown",
   "metadata": {},
   "source": [
    "Make sure we can access the interpreter."
   ]
  },
  {
   "cell_type": "code",
   "execution_count": 3,
   "metadata": {},
   "outputs": [
    {
     "data": {
      "text/plain": [
       "@0x7fd848816000"
      ]
     },
     "execution_count": 3,
     "metadata": {},
     "output_type": "execute_result"
    }
   ],
   "source": [
    "xeus::get_interpreter()"
   ]
  },
  {
   "cell_type": "code",
   "execution_count": 4,
   "metadata": {},
   "outputs": [],
   "source": [
    "#include <base/Timer.h>\n",
    "#include <base/concurrency/Thread.h>"
   ]
  },
  {
   "cell_type": "markdown",
   "metadata": {},
   "source": [
    "Using Jupyter::clearOutput()."
   ]
  },
  {
   "cell_type": "code",
   "execution_count": 5,
   "metadata": {},
   "outputs": [
    {
     "name": "stdout",
     "output_type": "stream",
     "text": [
      "0:0:1.947332"
     ]
    }
   ],
   "source": [
    "{\n",
    "  Timer t;\n",
    "  while (t.getLiveMicroseconds() < 2*1000000) {\n",
    "    Jupyter::clearOutput(true);\n",
    "    fout << t << FLUSH;\n",
    "    Thread::microsleep(100 * 1000);\n",
    "  }\n",
    "}"
   ]
  },
  {
   "cell_type": "markdown",
   "metadata": {},
   "source": [
    "Using explicit display."
   ]
  },
  {
   "cell_type": "code",
   "execution_count": 6,
   "metadata": {},
   "outputs": [
    {
     "data": {
      "": "",
      "text/html": [
       "<p>First.</p>"
      ]
     },
     "metadata": {},
     "output_type": "display_data"
    },
    {
     "data": {
      "": "",
      "text/html": [
       "<p>Second.</p>"
      ]
     },
     "metadata": {},
     "output_type": "display_data"
    }
   ],
   "source": [
    "Jupyter::display(Jupyter::html(\"<p>First.</p>\"));\n",
    "Jupyter::display(Jupyter::html(\"<p>Second.</p>\"));"
   ]
  },
  {
   "cell_type": "code",
   "execution_count": 7,
   "metadata": {},
   "outputs": [],
   "source": [
    "#include <base/Guid.h>"
   ]
  },
  {
   "cell_type": "code",
   "execution_count": 8,
   "metadata": {},
   "outputs": [
    {
     "data": {
      "text/plain": [
       "{B77534A2-4C69-3760-4D58-F658C1D307AF}"
      ]
     },
     "execution_count": 8,
     "metadata": {},
     "output_type": "execute_result"
    }
   ],
   "source": [
    "auto guid = Guid::createGuid(); guid"
   ]
  },
  {
   "cell_type": "code",
   "execution_count": 9,
   "metadata": {},
   "outputs": [
    {
     "data": {
      "": "",
      "text/html": [
       "<h2>Item got updated.</h2>"
      ]
     },
     "metadata": {},
     "output_type": "display_data"
    }
   ],
   "source": [
    "Jupyter::display(Jupyter::html(\"<h2>This item has a reference.</h2>\"), guid, false);"
   ]
  },
  {
   "cell_type": "markdown",
   "metadata": {},
   "source": [
    "Statement below will update previous output."
   ]
  },
  {
   "cell_type": "code",
   "execution_count": 10,
   "metadata": {},
   "outputs": [],
   "source": [
    "Jupyter::display(Jupyter::html(\"<h2>Item got updated.</h2>\"), guid, true);"
   ]
  },
  {
   "cell_type": "code",
   "execution_count": 11,
   "metadata": {},
   "outputs": [],
   "source": [
    "#include <base/string/Format.h>"
   ]
  },
  {
   "cell_type": "code",
   "execution_count": 12,
   "metadata": {},
   "outputs": [
    {
     "data": {
      "text/plain": [
       "{552A72B5-64EF-B72E-A2B1-364A90809021}"
      ]
     },
     "execution_count": 12,
     "metadata": {},
     "output_type": "execute_result"
    }
   ],
   "source": [
    "auto divId = Guid::createGuid(); divId"
   ]
  },
  {
   "cell_type": "code",
   "execution_count": 13,
   "metadata": {},
   "outputs": [
    {
     "data": {
      "": "",
      "text/html": [
       "<div id=\"{552A72B5-64EF-B72E-A2B1-364A90809021}\">ADD DIV WITH ID {552A72B5-64EF-B72E-A2B1-364A90809021}</div>"
      ]
     },
     "execution_count": 13,
     "metadata": {},
     "output_type": "execute_result"
    }
   ],
   "source": [
    "Jupyter::html(\"<div id=\\\"%1\\\">ADD DIV WITH ID %1</div>\" % Subst(divId))"
   ]
  },
  {
   "cell_type": "markdown",
   "metadata": {},
   "source": [
    "Below statement will update the HTML div above:"
   ]
  },
  {
   "cell_type": "code",
   "execution_count": 14,
   "metadata": {},
   "outputs": [
    {
     "data": {
      "": "",
      "text/html": [
       "<script>var e = document.getElementById(\"{552A72B5-64EF-B72E-A2B1-364A90809021}\"); console.log('Check if we can get access to our div: ' + e); if (e) {e.innerHTML = 'WE CHANGED IT';}</script>"
      ]
     },
     "execution_count": 14,
     "metadata": {},
     "output_type": "execute_result"
    }
   ],
   "source": [
    "Jupyter::html(\"<script>var e = document.getElementById(\\\"%1\\\"); console.log('Check if we can get access to our div: ' + e); if (e) {e.innerHTML = 'WE CHANGED IT';}</script>\" % Subst(divId))"
   ]
  },
  {
   "cell_type": "code",
   "execution_count": 15,
   "metadata": {},
   "outputs": [],
   "source": [
    "const char* svg = R\"SVG(<svg viewBox=\"0 0 100px 100px\" xmlns=\"http://www.w3.org/2000/svg\">\n",
    "  <rect width=\"100px\" height=\"100px\">\n",
    "    <animate attributeName=\"rx\" values=\"5px;50px;5px\" dur=\"2s\" repeatCount=\"indefinite\"/>\n",
    "    <animate attributeName=\"fill\" from=\"#202020\" to=\"#d0d0d0\" dur=\"2s\" repeatCount=\"indefinite\"/>\n",
    "  </rect>\n",
    "</svg>)SVG\";"
   ]
  },
  {
   "cell_type": "code",
   "execution_count": 16,
   "metadata": {},
   "outputs": [
    {
     "data": {
      "": "",
      "image/svg+xml": [
       "<svg viewBox=\"0 0 100px 100px\" xmlns=\"http://www.w3.org/2000/svg\">\n",
       "  <rect width=\"100px\" height=\"100px\">\n",
       "    <animate attributeName=\"rx\" values=\"5px;50px;5px\" dur=\"2s\" repeatCount=\"indefinite\"/>\n",
       "    <animate attributeName=\"fill\" from=\"#202020\" to=\"#d0d0d0\" dur=\"2s\" repeatCount=\"indefinite\"/>\n",
       "  </rect>\n",
       "</svg>"
      ]
     },
     "metadata": {},
     "output_type": "display_data"
    }
   ],
   "source": [
    "Jupyter::display(Jupyter::blob(svg, \"image/svg+xml\"));"
   ]
  },
  {
   "cell_type": "code",
   "execution_count": 17,
   "metadata": {},
   "outputs": [
    {
     "data": {
      "": "",
      "text/html": [
       "<script type=\"application/javascript\">\n",
       "var index = 0;\n",
       "function updateTime() {\n",
       "  var e = document.getElementById('{552A72B5-64EF-B72E-A2B1-364A90809021}');\n",
       "  e.innerHTML = (new Date()).getUTCMilliseconds();\n",
       "  if (index < 10) {\n",
       "    setTimeout(updateTime, 250);\n",
       "    ++index;\n",
       "  }\n",
       "};\n",
       "updateTime();\n",
       "</script>"
      ]
     },
     "metadata": {},
     "output_type": "display_data"
    }
   ],
   "source": [
    "Jupyter::display(Jupyter::script(\n",
    "R\"ZZZ(\n",
    "var index = 0;\n",
    "function updateTime() {\n",
    "  var e = document.getElementById('%1');\n",
    "  e.innerHTML = (new Date()).getUTCMilliseconds();\n",
    "  if (index < 10) {\n",
    "    setTimeout(updateTime, 250);\n",
    "    ++index;\n",
    "  }\n",
    "};\n",
    "updateTime();\n",
    ")ZZZ\" % Subst(divId)));"
   ]
  },
  {
   "cell_type": "code",
   "execution_count": null,
   "metadata": {},
   "outputs": [],
   "source": []
  }
 ],
 "metadata": {
  "kernelspec": {
   "display_name": "C++17",
   "language": "C++17",
   "name": "xcpp17"
  },
  "language_info": {
   "codemirror_mode": "text/x-c++src",
   "file_extension": ".cpp",
   "mimetype": "text/x-c++src",
   "name": "c++",
   "version": "17"
  }
 },
 "nbformat": 4,
 "nbformat_minor": 4
}
