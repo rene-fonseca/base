{
 "cells": [
  {
   "cell_type": "markdown",
   "metadata": {},
   "source": [
    "## List Container"
   ]
  },
  {
   "cell_type": "markdown",
   "metadata": {},
   "source": [
    "BASE comes with its own collection of generic containers."
   ]
  },
  {
   "cell_type": "code",
   "execution_count": 1,
   "metadata": {},
   "outputs": [],
   "source": [
    "#include <base/collection/List.h>"
   ]
  },
  {
   "cell_type": "code",
   "execution_count": 2,
   "metadata": {},
   "outputs": [],
   "source": [
    "using namespace base;"
   ]
  },
  {
   "cell_type": "markdown",
   "metadata": {},
   "source": [
    "Make a list of strings."
   ]
  },
  {
   "cell_type": "code",
   "execution_count": 3,
   "metadata": {},
   "outputs": [],
   "source": [
    "List<String> l{\"Hello\", \"World\", \"how\", \"are\", \"you\", \"today?\"};"
   ]
  },
  {
   "cell_type": "markdown",
   "metadata": {},
   "source": [
    "Many types have built-in support for presentation in Jupyter via xeus/cling. Containers are generally output as an HTML table."
   ]
  },
  {
   "cell_type": "code",
   "execution_count": 4,
   "metadata": {},
   "outputs": [
    {
     "data": {
      "text/html": [
       "<table><tr><th colspan=\"2\" style=\"text-align: center\">base::List<base::String> [SIZE=6]</th></tr><tr><th style=\"text-align: right\">Index</th><th style=\"text-align: left\">Value</th></tr><tr><td style=\"text-align: right\">0</td><td style=\"text-align: left\">Hello</td></tr><tr><td style=\"text-align: right\">1</td><td style=\"text-align: left\">World</td></tr><tr><td style=\"text-align: right\">2</td><td style=\"text-align: left\">how</td></tr><tr><td style=\"text-align: right\">3</td><td style=\"text-align: left\">are</td></tr><tr><td style=\"text-align: right\">4</td><td style=\"text-align: left\">you</td></tr><tr><td style=\"text-align: right\">5</td><td style=\"text-align: left\">today?</td></tr><table>"
      ]
     },
     "execution_count": 4,
     "metadata": {},
     "output_type": "execute_result"
    }
   ],
   "source": [
    "l"
   ]
  },
  {
   "cell_type": "markdown",
   "metadata": {},
   "source": [
    "The containers in BASE use reference counting which makes it easy to pass these around."
   ]
  },
  {
   "cell_type": "code",
   "execution_count": 5,
   "metadata": {},
   "outputs": [],
   "source": [
    "/*\n",
    "List<int> getSomething()\n",
    "{\n",
    "  return List<int>{123, -123, 0};\n",
    "}\n",
    "*/"
   ]
  },
  {
   "cell_type": "markdown",
   "metadata": {},
   "source": [
    "Instead the container is copied on demand on modification. However, if the container only has one reference no copy is needed."
   ]
  },
  {
   "cell_type": "code",
   "execution_count": 6,
   "metadata": {},
   "outputs": [
    {
     "data": {
      "text/html": [
       "<table><tr><th colspan=\"2\" style=\"text-align: center\">base::List<base::String> [SIZE=7]</th></tr><tr><th style=\"text-align: right\">Index</th><th style=\"text-align: left\">Value</th></tr><tr><td style=\"text-align: right\">0</td><td style=\"text-align: left\">Hello</td></tr><tr><td style=\"text-align: right\">1</td><td style=\"text-align: left\">World</td></tr><tr><td style=\"text-align: right\">2</td><td style=\"text-align: left\">how</td></tr><tr><td style=\"text-align: right\">3</td><td style=\"text-align: left\">are</td></tr><tr><td style=\"text-align: right\">4</td><td style=\"text-align: left\">you</td></tr><tr><td style=\"text-align: right\">5</td><td style=\"text-align: left\">today?</td></tr><tr><td style=\"text-align: right\">6</td><td style=\"text-align: left\">appended</td></tr><table>"
      ]
     },
     "execution_count": 6,
     "metadata": {},
     "output_type": "execute_result"
    }
   ],
   "source": [
    "l.append(\"appended\"); l"
   ]
  },
  {
   "cell_type": "code",
   "execution_count": 7,
   "metadata": {},
   "outputs": [
    {
     "data": {
      "text/html": [
       "<table><tr><th colspan=\"2\" style=\"text-align: center\">base::List<base::String> [SIZE=8]</th></tr><tr><th style=\"text-align: right\">Index</th><th style=\"text-align: left\">Value</th></tr><tr><td style=\"text-align: right\">0</td><td style=\"text-align: left\">prepended</td></tr><tr><td style=\"text-align: right\">1</td><td style=\"text-align: left\">Hello</td></tr><tr><td style=\"text-align: right\">2</td><td style=\"text-align: left\">World</td></tr><tr><td style=\"text-align: right\">3</td><td style=\"text-align: left\">how</td></tr><tr><td style=\"text-align: right\">4</td><td style=\"text-align: left\">are</td></tr><tr><td style=\"text-align: right\">5</td><td style=\"text-align: left\">you</td></tr><tr><td style=\"text-align: right\">6</td><td style=\"text-align: left\">today?</td></tr><tr><td style=\"text-align: right\">7</td><td style=\"text-align: left\">appended</td></tr><table>"
      ]
     },
     "execution_count": 7,
     "metadata": {},
     "output_type": "execute_result"
    }
   ],
   "source": [
    "l.prepend(\"prepended\"); l"
   ]
  },
  {
   "cell_type": "markdown",
   "metadata": {},
   "source": [
    "BASE containers are NOT implemented for fastest possible execution. But for ease of use/convenience, debugging, and sharing data across library boundaries. You still have the option to use Std C++ containers when performance is critical."
   ]
  },
  {
   "cell_type": "markdown",
   "metadata": {},
   "source": [
    "You can iterate over the containers easily."
   ]
  },
  {
   "cell_type": "code",
   "execution_count": 8,
   "metadata": {},
   "outputs": [
    {
     "name": "stdout",
     "output_type": "stream",
     "text": [
      "prepended\n",
      "Hello\n",
      "World\n",
      "how\n",
      "are\n",
      "you\n",
      "today?\n",
      "appended\n"
     ]
    }
   ],
   "source": [
    "for (auto v : l) {\n",
    "  fout << v << ENDL;\n",
    "}"
   ]
  },
  {
   "cell_type": "markdown",
   "metadata": {},
   "source": [
    "BASE has the concept of enumerators which work like iterators except an enumerator knows when the end is reached and hence protects against buffer overruns."
   ]
  },
  {
   "cell_type": "code",
   "execution_count": 9,
   "metadata": {},
   "outputs": [
    {
     "name": "stdout",
     "output_type": "stream",
     "text": [
      "prepended\n",
      "Hello\n",
      "World\n",
      "how\n",
      "are\n",
      "you\n",
      "today?\n",
      "appended\n"
     ]
    }
   ],
   "source": [
    "auto e = l.getReadEnumerator();\n",
    "while (e.hasNext()) {\n",
    "  fout << e.next() << ENDL;\n",
    "}"
   ]
  },
  {
   "cell_type": "markdown",
   "metadata": {},
   "source": [
    "Sorting is common and just integrated with the relevant containers."
   ]
  },
  {
   "cell_type": "code",
   "execution_count": 10,
   "metadata": {},
   "outputs": [
    {
     "data": {
      "text/html": [
       "<table><tr><th colspan=\"2\" style=\"text-align: center\">base::List<base::String> [SIZE=8]</th></tr><tr><th style=\"text-align: right\">Index</th><th style=\"text-align: left\">Value</th></tr><tr><td style=\"text-align: right\">0</td><td style=\"text-align: left\">Hello</td></tr><tr><td style=\"text-align: right\">1</td><td style=\"text-align: left\">World</td></tr><tr><td style=\"text-align: right\">2</td><td style=\"text-align: left\">appended</td></tr><tr><td style=\"text-align: right\">3</td><td style=\"text-align: left\">are</td></tr><tr><td style=\"text-align: right\">4</td><td style=\"text-align: left\">how</td></tr><tr><td style=\"text-align: right\">5</td><td style=\"text-align: left\">prepended</td></tr><tr><td style=\"text-align: right\">6</td><td style=\"text-align: left\">today?</td></tr><tr><td style=\"text-align: right\">7</td><td style=\"text-align: left\">you</td></tr><table>"
      ]
     },
     "execution_count": 10,
     "metadata": {},
     "output_type": "execute_result"
    }
   ],
   "source": [
    "l.sort(); l"
   ]
  },
  {
   "cell_type": "code",
   "execution_count": 11,
   "metadata": {},
   "outputs": [
    {
     "data": {
      "text/plain": [
       "8"
      ]
     },
     "execution_count": 11,
     "metadata": {},
     "output_type": "execute_result"
    }
   ],
   "source": [
    "l.getSize()"
   ]
  },
  {
   "cell_type": "code",
   "execution_count": 12,
   "metadata": {},
   "outputs": [
    {
     "data": {
      "text/plain": [
       "false"
      ]
     },
     "execution_count": 12,
     "metadata": {},
     "output_type": "execute_result"
    }
   ],
   "source": [
    "l.isEmpty()"
   ]
  },
  {
   "cell_type": "code",
   "execution_count": 13,
   "metadata": {},
   "outputs": [
    {
     "data": {
      "text/plain": [
       "\"Hello\""
      ]
     },
     "execution_count": 13,
     "metadata": {},
     "output_type": "execute_result"
    }
   ],
   "source": [
    "l.getFirst()"
   ]
  },
  {
   "cell_type": "code",
   "execution_count": 14,
   "metadata": {},
   "outputs": [
    {
     "data": {
      "text/plain": [
       "\"you\""
      ]
     },
     "execution_count": 14,
     "metadata": {},
     "output_type": "execute_result"
    }
   ],
   "source": [
    "l.getLast()"
   ]
  },
  {
   "cell_type": "code",
   "execution_count": 15,
   "metadata": {},
   "outputs": [
    {
     "data": {
      "text/html": [
       "<table><tr><th colspan=\"2\" style=\"text-align: center\">base::List<base::String> [SIZE=9]</th></tr><tr><th style=\"text-align: right\">Index</th><th style=\"text-align: left\">Value</th></tr><tr><td style=\"text-align: right\">0</td><td style=\"text-align: left\">Hello</td></tr><tr><td style=\"text-align: right\">1</td><td style=\"text-align: left\">World</td></tr><tr><td style=\"text-align: right\">2</td><td style=\"text-align: left\">appended</td></tr><tr><td style=\"text-align: right\">3</td><td style=\"text-align: left\">are</td></tr><tr><td style=\"text-align: right\">4</td><td style=\"text-align: left\">how</td></tr><tr><td style=\"text-align: right\">5</td><td style=\"text-align: left\">prepended</td></tr><tr><td style=\"text-align: right\">6</td><td style=\"text-align: left\">today?</td></tr><tr><td style=\"text-align: right\">7</td><td style=\"text-align: left\">you</td></tr><tr><td style=\"text-align: right\">8</td><td style=\"text-align: left\">123</td></tr><table>"
      ]
     },
     "execution_count": 15,
     "metadata": {},
     "output_type": "execute_result"
    }
   ],
   "source": [
    "l << \"123\""
   ]
  }
 ],
 "metadata": {
  "kernelspec": {
   "display_name": "C++17",
   "language": "C++17",
   "name": "xcpp17"
  },
  "language_info": {
   "codemirror_mode": "text/x-c++src",
   "file_extension": ".cpp",
   "mimetype": "text/x-c++src",
   "name": "c++",
   "version": "17"
  }
 },
 "nbformat": 4,
 "nbformat_minor": 4
}
