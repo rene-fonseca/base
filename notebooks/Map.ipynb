{
 "cells": [
  {
   "cell_type": "markdown",
   "metadata": {},
   "source": [
    "## Map Container"
   ]
  },
  {
   "cell_type": "markdown",
   "metadata": {},
   "source": [
    "BASE comes with its own collection of generic containers."
   ]
  },
  {
   "cell_type": "code",
   "execution_count": 1,
   "metadata": {},
   "outputs": [],
   "source": [
    "#include <base/collection/Map.h>"
   ]
  },
  {
   "cell_type": "code",
   "execution_count": 2,
   "metadata": {},
   "outputs": [],
   "source": [
    "using namespace base;"
   ]
  },
  {
   "cell_type": "markdown",
   "metadata": {},
   "source": [
    "Make an map of string to int."
   ]
  },
  {
   "cell_type": "code",
   "execution_count": 3,
   "metadata": {},
   "outputs": [],
   "source": [
    "Map<String, int> m{{\"Hello\", -1}, {\"World\", 1}, {\"How are you today?\", 5}};"
   ]
  },
  {
   "cell_type": "markdown",
   "metadata": {},
   "source": [
    "Many types have built-in support for presentation in Jupyter via xeus/cling. Containers are generally output as an HTML table."
   ]
  },
  {
   "cell_type": "code",
   "execution_count": 4,
   "metadata": {},
   "outputs": [
    {
     "data": {
      "text/html": [
       "<table><tr><th colspan=\"2\" style=\"text-align: center\">base::Map<base::String, int> [SIZE=3]</th></tr><tr><th style=\"text-align: right\">Key</th><th style=\"text-align: left\">Value</th></tr><tr><td style=\"text-align: right\">Hello</td><td style=\"text-align: left\">-1</td></tr><tr><td style=\"text-align: right\">How are you today?</td><td style=\"text-align: left\">5</td></tr><tr><td style=\"text-align: right\">World</td><td style=\"text-align: left\">1</td></tr><table>"
      ]
     },
     "execution_count": 4,
     "metadata": {},
     "output_type": "execute_result"
    }
   ],
   "source": [
    "m"
   ]
  },
  {
   "cell_type": "markdown",
   "metadata": {},
   "source": [
    "The containers in BASE use reference counting which makes it easy to pass these around."
   ]
  },
  {
   "cell_type": "markdown",
   "metadata": {},
   "source": [
    "Instead the container is copied on demand on modification. However, if the container only has one reference no copy is needed."
   ]
  },
  {
   "cell_type": "code",
   "execution_count": 5,
   "metadata": {},
   "outputs": [
    {
     "data": {
      "text/html": [
       "<table><tr><th colspan=\"2\" style=\"text-align: center\">base::Map<base::String, int> [SIZE=4]</th></tr><tr><th style=\"text-align: right\">Key</th><th style=\"text-align: left\">Value</th></tr><tr><td style=\"text-align: right\">Hello</td><td style=\"text-align: left\">-1</td></tr><tr><td style=\"text-align: right\">How are you today?</td><td style=\"text-align: left\">5</td></tr><tr><td style=\"text-align: right\">World</td><td style=\"text-align: left\">1</td></tr><tr><td style=\"text-align: right\">added</td><td style=\"text-align: left\">-10</td></tr><table>"
      ]
     },
     "execution_count": 5,
     "metadata": {},
     "output_type": "execute_result"
    }
   ],
   "source": [
    "m.add(\"added\", -10); m"
   ]
  },
  {
   "cell_type": "markdown",
   "metadata": {},
   "source": [
    "BASE containers are NOT implemented for fastest possible execution. But for ease of use/convenience, debugging, and sharing data across library boundaries. You still have the option to use Std C++ containers when performance is critical."
   ]
  },
  {
   "cell_type": "code",
   "execution_count": 6,
   "metadata": {},
   "outputs": [
    {
     "data": {
      "text/plain": [
       "true"
      ]
     },
     "execution_count": 6,
     "metadata": {},
     "output_type": "execute_result"
    }
   ],
   "source": [
    "m.hasKey(\"Hello\")"
   ]
  },
  {
   "cell_type": "code",
   "execution_count": 7,
   "metadata": {},
   "outputs": [
    {
     "data": {
      "text/html": [
       "<table><tr><th colspan=\"2\" style=\"text-align: center\">base::Map<base::String, int> [SIZE=3]</th></tr><tr><th style=\"text-align: right\">Key</th><th style=\"text-align: left\">Value</th></tr><tr><td style=\"text-align: right\">Hello</td><td style=\"text-align: left\">-1</td></tr><tr><td style=\"text-align: right\">How are you today?</td><td style=\"text-align: left\">5</td></tr><tr><td style=\"text-align: right\">added</td><td style=\"text-align: left\">-10</td></tr><table>"
      ]
     },
     "execution_count": 7,
     "metadata": {},
     "output_type": "execute_result"
    }
   ],
   "source": [
    "m.remove(\"World\"); m"
   ]
  },
  {
   "cell_type": "markdown",
   "metadata": {},
   "source": [
    "BASE will throw exception on wrong use. "
   ]
  },
  {
   "cell_type": "code",
   "execution_count": 8,
   "metadata": {},
   "outputs": [
    {
     "name": "stderr",
     "output_type": "stream",
     "text": [
      "Exception 'base::Exception' was raised.\n"
     ]
    }
   ],
   "source": [
    "try {\n",
    "  m.remove(\"Key\");\n",
    "} catch (Exception& e) {\n",
    "  ferr << e << ENDL;\n",
    "}"
   ]
  },
  {
   "cell_type": "markdown",
   "metadata": {},
   "source": [
    "You can iterate over the containers easily."
   ]
  },
  {
   "cell_type": "code",
   "execution_count": 9,
   "metadata": {},
   "outputs": [
    {
     "name": "stdout",
     "output_type": "stream",
     "text": [
      "[Hello]=-1\n",
      "[How are you today?]=5\n",
      "[added]=-10\n"
     ]
    }
   ],
   "source": [
    "for (auto v : m) {\n",
    "  fout << v << ENDL;\n",
    "}"
   ]
  },
  {
   "cell_type": "markdown",
   "metadata": {},
   "source": [
    "BASE has the concept of enumerators which work like iterators except an enumerator knows when the end is reached and hence protects against buffer overruns."
   ]
  },
  {
   "cell_type": "code",
   "execution_count": 10,
   "metadata": {},
   "outputs": [
    {
     "name": "stdout",
     "output_type": "stream",
     "text": [
      "[Hello]=-1\n",
      "[How are you today?]=5\n",
      "[added]=-10\n"
     ]
    }
   ],
   "source": [
    "auto e = m.getReadEnumerator();\n",
    "while (e.hasNext()) {\n",
    "  fout << e.next() << ENDL;\n",
    "}"
   ]
  },
  {
   "cell_type": "code",
   "execution_count": null,
   "metadata": {},
   "outputs": [],
   "source": []
  }
 ],
 "metadata": {
  "kernelspec": {
   "display_name": "C++17",
   "language": "C++17",
   "name": "xcpp17"
  },
  "language_info": {
   "codemirror_mode": "text/x-c++src",
   "file_extension": ".cpp",
   "mimetype": "text/x-c++src",
   "name": "c++",
   "version": "17"
  }
 },
 "nbformat": 4,
 "nbformat_minor": 4
}
