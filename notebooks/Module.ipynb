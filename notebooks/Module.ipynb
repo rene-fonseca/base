{
 "cells": [
  {
   "cell_type": "markdown",
   "metadata": {},
   "source": [
    "## Third Party Library Registration"
   ]
  },
  {
   "cell_type": "markdown",
   "metadata": {},
   "source": [
    "BASE allows you to register the third party libraries that you use in you code. This allow you to interrogate the modules in use at runtime and integrate with legal review processes. A module (aka third party code) is registered via the `MODULE_REGISTER` macro."
   ]
  },
  {
   "cell_type": "code",
   "execution_count": 1,
   "metadata": {},
   "outputs": [],
   "source": [
    "#include <base/Module.h>"
   ]
  },
  {
   "cell_type": "code",
   "execution_count": 2,
   "metadata": {},
   "outputs": [],
   "source": [
    "using namespace base;"
   ]
  },
  {
   "cell_type": "code",
   "execution_count": 3,
   "metadata": {},
   "outputs": [],
   "source": [
    "auto& manager = ModuleManager::getManager();"
   ]
  },
  {
   "cell_type": "markdown",
   "metadata": {},
   "source": [
    "Dump all registered modules."
   ]
  },
  {
   "cell_type": "code",
   "execution_count": 4,
   "metadata": {},
   "outputs": [
    {
     "name": "stdout",
     "output_type": "stream",
     "text": [
      "===============================================================================\n",
      "MODULE: \n",
      "  Prefix: \"org.xmlsoft\"\n",
      "  Name: libxslt\n",
      "  Version: \"1.0\"\n",
      "  Consumer: \"com.azure.dev:renefonseca_base\"\n",
      "  Url: http://xmlsoft.org/XSLT/\n",
      "  License: <UNKNOWN>\n",
      "===============================================================================\n",
      "MODULE: \n",
      "  Prefix: \"org.xmlsoft\"\n",
      "  Name: libxml2\n",
      "  Version: \"2.9.4\"\n",
      "  Consumer: \"com.azure.dev:renefonseca_base\"\n",
      "  Url: http://www.xmlsoft.org/XMLinfo.html\n",
      "  License: <UNKNOWN>\n",
      "===============================================================================\n",
      "MODULE: \n",
      "  Prefix: \"net.zlib\"\n",
      "  Name: libzlib\n",
      "  Version: \"1.2.11\"\n",
      "  Consumer: \"com.azure.dev:renefonseca_base\"\n",
      "  Url: https://zlib.net/\n",
      "  License: <UNKNOWN>\n",
      "===============================================================================\n",
      "MODULE: \n",
      "  Prefix: \"org.sourceware.bzip2\"\n",
      "  Name: libbzip2\n",
      "  Version: <UNKNOWN>\n",
      "  Consumer: \"com.azure.dev:renefonseca_base\"\n",
      "  Url: https://www.sourceware.org/bzip2/\n",
      "  License: <UNKNOWN>\n",
      "\n",
      "===============================================================================\n"
     ]
    }
   ],
   "source": [
    "manager.traverseModules(fout, \"*\", true);"
   ]
  },
  {
   "cell_type": "markdown",
   "metadata": {},
   "source": [
    "Legal team might need a CSV file since they will commonly not look directly at the code."
   ]
  },
  {
   "cell_type": "code",
   "execution_count": 5,
   "metadata": {},
   "outputs": [
    {
     "data": {
      "text/plain": [
       "\"\\\"org.xmlsoft\\\";\\\"libxslt\\\";\\\"1.0\\\";\\\"http://xmlsoft.org/XSLT/\\\";\\\"com.azure.dev:renefonseca_base\\\";\\\"\\\";\\\"\\\"\\r\\n\\\"org.xmlsoft\\\";\\\"libxml2\\\";\\\"2.9.4\\\";\\\"http://www.xmlsoft.org/XMLinfo.html\\\";\\\"com.azure.dev:renefonseca_base\\\";\\\"\\\";\\\"\\\"\\r\\n\\\"net.zlib\\\";\\\"libzlib\\\";\\\"1.2.11\\\";\\\"https://zlib.net/\\\";\\\"com.azure.dev:renefonseca_base\\\";\\\"\\\";\\\"\\\"\\r\\n\\\"org.sourceware.bzip2\\\";\\\"libbzip2\\\";\\\"\\\";\\\"https://www.sourceware.org/bzip2/\\\";\\\"com.azure.dev:renefonseca_base\\\";\\\"\\\";\\\"\\\"\\r\\n\""
      ]
     },
     "execution_count": 5,
     "metadata": {},
     "output_type": "execute_result"
    }
   ],
   "source": [
    "manager.getModulesCSV()"
   ]
  },
  {
   "cell_type": "markdown",
   "metadata": {},
   "source": [
    "You can also set you a REST API on your intranet using the HTTPSRequest class with the JSON below."
   ]
  },
  {
   "cell_type": "code",
   "execution_count": 6,
   "metadata": {},
   "outputs": [
    {
     "name": "stdout",
     "output_type": "stream",
     "text": [
      "{\n",
      "  \u001b[1m\u001b[31m\"documentType\"\u001b[0m\u001b[0m: \u001b[31m\"modules\"\u001b[0m,\n",
      "  \u001b[1m\u001b[31m\"version\"\u001b[0m\u001b[0m: \u001b[31m\"1.0\"\u001b[0m,\n",
      "  \u001b[1m\u001b[31m\"os\"\u001b[0m\u001b[0m: \u001b[31m\"macOS\"\u001b[0m,\n",
      "  \u001b[1m\u001b[31m\"architecture\"\u001b[0m\u001b[0m: \u001b[31m\"x86-64\"\u001b[0m,\n",
      "  \u001b[1m\u001b[31m\"modules\"\u001b[0m\u001b[0m: [{\n",
      "    \u001b[1m\u001b[31m\"prefix\"\u001b[0m\u001b[0m: \u001b[31m\"org.xmlsoft\"\u001b[0m,\n",
      "    \u001b[1m\u001b[31m\"name\"\u001b[0m\u001b[0m: \u001b[31m\"libxslt\"\u001b[0m,\n",
      "    \u001b[1m\u001b[31m\"version\"\u001b[0m\u001b[0m: \u001b[31m\"1.0\"\u001b[0m,\n",
      "    \u001b[1m\u001b[31m\"url\"\u001b[0m\u001b[0m: \u001b[4m\u001b[32m\"http://xmlsoft.org/XSLT/\"\u001b[24m\u001b[0m,\n",
      "    \u001b[1m\u001b[31m\"consumer\"\u001b[0m\u001b[0m: \u001b[31m\"com.azure.dev:renefonseca_base\"\u001b[0m,\n",
      "    \u001b[1m\u001b[31m\"license\"\u001b[0m\u001b[0m: \u001b[31m\"\"\u001b[0m,\n",
      "    \u001b[1m\u001b[31m\"description\"\u001b[0m\u001b[0m: \u001b[31m\"\"\u001b[0m\n",
      "  }, {\n",
      "    \u001b[1m\u001b[31m\"prefix\"\u001b[0m\u001b[0m: \u001b[31m\"org.xmlsoft\"\u001b[0m,\n",
      "    \u001b[1m\u001b[31m\"name\"\u001b[0m\u001b[0m: \u001b[31m\"libxml2\"\u001b[0m,\n",
      "    \u001b[1m\u001b[31m\"version\"\u001b[0m\u001b[0m: \u001b[31m\"2.9.4\"\u001b[0m,\n",
      "    \u001b[1m\u001b[31m\"url\"\u001b[0m\u001b[0m: \u001b[4m\u001b[32m\"http://www.xmlsoft.org/XMLinfo.html\"\u001b[24m\u001b[0m,\n",
      "    \u001b[1m\u001b[31m\"consumer\"\u001b[0m\u001b[0m: \u001b[31m\"com.azure.dev:renefonseca_base\"\u001b[0m,\n",
      "    \u001b[1m\u001b[31m\"license\"\u001b[0m\u001b[0m: \u001b[31m\"\"\u001b[0m,\n",
      "    \u001b[1m\u001b[31m\"description\"\u001b[0m\u001b[0m: \u001b[31m\"\"\u001b[0m\n",
      "  }, {\n",
      "    \u001b[1m\u001b[31m\"prefix\"\u001b[0m\u001b[0m: \u001b[31m\"net.zlib\"\u001b[0m,\n",
      "    \u001b[1m\u001b[31m\"name\"\u001b[0m\u001b[0m: \u001b[31m\"libzlib\"\u001b[0m,\n",
      "    \u001b[1m\u001b[31m\"version\"\u001b[0m\u001b[0m: \u001b[31m\"1.2.11\"\u001b[0m,\n",
      "    \u001b[1m\u001b[31m\"url\"\u001b[0m\u001b[0m: \u001b[4m\u001b[32m\"https://zlib.net/\"\u001b[24m\u001b[0m,\n",
      "    \u001b[1m\u001b[31m\"consumer\"\u001b[0m\u001b[0m: \u001b[31m\"com.azure.dev:renefonseca_base\"\u001b[0m,\n",
      "    \u001b[1m\u001b[31m\"license\"\u001b[0m\u001b[0m: \u001b[31m\"\"\u001b[0m,\n",
      "    \u001b[1m\u001b[31m\"description\"\u001b[0m\u001b[0m: \u001b[31m\"\"\u001b[0m\n",
      "  }, {\n",
      "    \u001b[1m\u001b[31m\"prefix\"\u001b[0m\u001b[0m: \u001b[31m\"org.sourceware.bzip2\"\u001b[0m,\n",
      "    \u001b[1m\u001b[31m\"name\"\u001b[0m\u001b[0m: \u001b[31m\"libbzip2\"\u001b[0m,\n",
      "    \u001b[1m\u001b[31m\"version\"\u001b[0m\u001b[0m: \u001b[31m\"\"\u001b[0m,\n",
      "    \u001b[1m\u001b[31m\"url\"\u001b[0m\u001b[0m: \u001b[4m\u001b[32m\"https://www.sourceware.org/bzip2/\"\u001b[24m\u001b[0m,\n",
      "    \u001b[1m\u001b[31m\"consumer\"\u001b[0m\u001b[0m: \u001b[31m\"com.azure.dev:renefonseca_base\"\u001b[0m,\n",
      "    \u001b[1m\u001b[31m\"license\"\u001b[0m\u001b[0m: \u001b[31m\"\"\u001b[0m,\n",
      "    \u001b[1m\u001b[31m\"description\"\u001b[0m\u001b[0m: \u001b[31m\"\"\u001b[0m\n",
      "  }]\n",
      "}\n"
     ]
    }
   ],
   "source": [
    "ObjectModel::NiceFormat niceFormat;\n",
    "niceFormat.setNiceFlags(ObjectModel::DEFAULT_FORMATTING | (true ? ObjectModel::FLAG_COLOR : 0));\n",
    "niceFormat << manager.getModules() << FLUSH;\n",
    "fout << niceFormat.getString() << ENDL;"
   ]
  },
  {
   "cell_type": "code",
   "execution_count": 7,
   "metadata": {},
   "outputs": [],
   "source": [
    "#include <base/xml/DOMImplementation.h>\n",
    "#include <base/string/FormatOutputStream.h>\n",
    "\n",
    "if (false && DOMImplementation::isSupported()) { // FIX EXCEPTION\n",
    "  fout << DOMImplementation().saveDocumentToMemory(ObjectModel::getXML(manager.getModules(), \"modules\"), true) << ENDL;\n",
    "}"
   ]
  }
 ],
 "metadata": {
  "kernelspec": {
   "display_name": "C++17",
   "language": "C++17",
   "name": "xcpp17"
  },
  "language_info": {
   "codemirror_mode": "text/x-c++src",
   "file_extension": ".cpp",
   "mimetype": "text/x-c++src",
   "name": "c++",
   "version": "17"
  }
 },
 "nbformat": 4,
 "nbformat_minor": 4
}
