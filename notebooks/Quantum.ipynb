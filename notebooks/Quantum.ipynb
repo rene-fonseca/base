{
 "cells": [
  {
   "cell_type": "markdown",
   "metadata": {},
   "source": [
    "## Quantum Random Example"
   ]
  },
  {
   "cell_type": "code",
   "execution_count": 1,
   "metadata": {},
   "outputs": [],
   "source": [
    "#include <base/net/HTTPSRequest.h>\n",
    "#include <base/string/Format.h>"
   ]
  },
  {
   "cell_type": "code",
   "execution_count": 2,
   "metadata": {},
   "outputs": [],
   "source": [
    "using namespace base;"
   ]
  },
  {
   "cell_type": "code",
   "execution_count": 3,
   "metadata": {},
   "outputs": [],
   "source": [
    "unsigned int bytes = 32;"
   ]
  },
  {
   "cell_type": "markdown",
   "metadata": {},
   "source": [
    "Get the random numbers."
   ]
  },
  {
   "cell_type": "code",
   "execution_count": 4,
   "metadata": {},
   "outputs": [],
   "source": [
    "auto response = HTTPSRequest::load(\"https://qrng.anu.edu.au/API/jsonI.php?length=%1&type=uint8\" % Subst(bytes))"
   ]
  },
  {
   "cell_type": "code",
   "execution_count": 5,
   "metadata": {},
   "outputs": [
    {
     "data": {
      "text/html": [
       "<table><tr><th colspan=\"2\" style=\"text-align: center\">base::Pair<base::String, base::String></th></tr><tr><td style=\"text-align: right\">base::String</td><td style=\"text-align: left\">{&quot;type&quot;:&quot;uint8&quot;,&quot;length&quot;:32,&quot;data&quot;:[212,144,28,251,193,46,43,147,57,156,60,255,50,40,208,149,123,164,8,111,217,118,140,127,246,128,199,112,255,231,248,116],&quot;success&quot;:true}\n",
       "</td></tr><tr><td style=\"text-align: right\">base::String</td><td style=\"text-align: left\">application/json</td></tr><table>"
      ]
     },
     "execution_count": 5,
     "metadata": {},
     "output_type": "execute_result"
    }
   ],
   "source": [
    "response"
   ]
  },
  {
   "cell_type": "code",
   "execution_count": 6,
   "metadata": {},
   "outputs": [],
   "source": [
    "#include <base/objectmodel/JSON.h>\n",
    "#include <base/string/FormatOutputStream.h>"
   ]
  },
  {
   "cell_type": "markdown",
   "metadata": {},
   "source": [
    "Parse the reponse."
   ]
  },
  {
   "cell_type": "code",
   "execution_count": 7,
   "metadata": {},
   "outputs": [
    {
     "data": {
      "application/json": "{\"type\":\"uint8\",\"length\":32,\"data\":[212,144,28,251,193,46,43,147,57,156,60,255,50,40,208,149,123,164,8,111,217,118,140,127,246,128,199,112,255,231,248,116],\"success\":true}"
     },
     "execution_count": 7,
     "metadata": {},
     "output_type": "execute_result"
    }
   ],
   "source": [
    "auto root = JSON().parse(response.getFirst()); root"
   ]
  },
  {
   "cell_type": "code",
   "execution_count": 8,
   "metadata": {},
   "outputs": [
    {
     "data": {
      "text/plain": [
       "true"
      ]
     },
     "execution_count": 8,
     "metadata": {},
     "output_type": "execute_result"
    }
   ],
   "source": [
    "root.cast<ObjectModel::Object>()->getBoolean(\"/success\", false)"
   ]
  },
  {
   "cell_type": "code",
   "execution_count": 9,
   "metadata": {},
   "outputs": [],
   "source": [
    "auto data = root.cast<ObjectModel::Object>()->getArray(\"/data\")"
   ]
  },
  {
   "cell_type": "code",
   "execution_count": 10,
   "metadata": {},
   "outputs": [
    {
     "name": "stdout",
     "output_type": "stream",
     "text": [
      "0xd4 0x90 0x1c 0xfb 0xc1 0x2e 0x2b 0x93 0x39 0x9c 0x3c 0xff 0x32 0x28 0xd0 0x95 0x7b 0xa4 0x8 0x6f 0xd9 0x76 0x8c 0x7f 0xf6 0x80 0xc7 0x70 0xff 0xe7 0xf8 0x74 "
     ]
    }
   ],
   "source": [
    "for (auto v : data->values) {\n",
    "  fout << HEX << v << \" \" << FLUSH;\n",
    "}"
   ]
  },
  {
   "cell_type": "code",
   "execution_count": null,
   "metadata": {},
   "outputs": [],
   "source": []
  }
 ],
 "metadata": {
  "kernelspec": {
   "display_name": "C++17",
   "language": "C++17",
   "name": "xcpp17"
  },
  "language_info": {
   "codemirror_mode": "text/x-c++src",
   "file_extension": ".cpp",
   "mimetype": "text/x-c++src",
   "name": "c++",
   "version": "17"
  }
 },
 "nbformat": 4,
 "nbformat_minor": 4
}
