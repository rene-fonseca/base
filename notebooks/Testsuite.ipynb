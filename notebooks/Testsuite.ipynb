{
 "cells": [
  {
   "cell_type": "markdown",
   "metadata": {},
   "source": [
    "## Testsuite Apps"
   ]
  },
  {
   "cell_type": "markdown",
   "metadata": {},
   "source": [
    "BASE comes with several example apps in the testsuite subfolder. Note that you may need to add a symbolic link in the base root folder of the include files to the testsuite folder. Ie. `ln -s ../testsuite`"
   ]
  },
  {
   "cell_type": "code",
   "execution_count": 1,
   "metadata": {},
   "outputs": [],
   "source": [
    "#include <base/testsuite/Array.cpp>"
   ]
  },
  {
   "cell_type": "code",
   "execution_count": 2,
   "metadata": {},
   "outputs": [],
   "source": [
    "using namespace base;"
   ]
  },
  {
   "cell_type": "markdown",
   "metadata": {},
   "source": [
    "The testsuite apps use the APPLICATION_STUB macro to register the entry function of the application. When using *cling* a quick entry function called `start()` is enabled for convenience. `start()` takes any number of string literal arguments and imitates the `main()` function by using the name of the cpp file as the program name."
   ]
  },
  {
   "cell_type": "code",
   "execution_count": 3,
   "metadata": {},
   "outputs": [
    {
     "name": "stdout",
     "output_type": "stream",
     "text": [
      "Array version 1.0\n",
      "The Base Framework (Test Suite)\n",
      "\n",
      "Initializing array\n",
      "Appending values (1, 2, 3, 4, and 5)\n",
      "ai: [1;2;3;4;5]\n",
      "Prepending (10, and 11)\n",
      "ai: [11;10;1;2;3;4;5]\n",
      "Inserting 21 at index 0\n",
      "Inserting 22 at index 4\n",
      "Inserting 23 at index 9\n",
      "ai: [21;21;11;10;22;3;4;5;0;23]\n",
      "Invalid insert (expecting OutOfRange) for size 10\n",
      "  Catched exception: base::Exception\n",
      "Removing element at index 2\n",
      "ai: [21;21;10;22;3;4;5;0;23;1234]\n",
      "Modifying enumeration of elements (multiply values by 2)\n",
      "ai: [42;42;20;44;6;8;10;0;46;2468]\n",
      "Non-modifying enumerating elements of list (calculating sum)\n",
      "Sum: 0\n",
      "Size: 10\n",
      "Removing all the elements\n",
      "Size: 0\n",
      "af: [1.1;2.2;3.3;4.4;5.5;6.6;7.7;8.8;9.9]\n",
      "ad: [-0.42;-0.84;-1.26;-1.68;-2.1;-2.52;-2.94;-3.36;-3.78]\n"
     ]
    },
    {
     "data": {
      "text/plain": [
       "0"
      ]
     },
     "execution_count": 3,
     "metadata": {},
     "output_type": "execute_result"
    }
   ],
   "source": [
    "start()"
   ]
  },
  {
   "cell_type": "markdown",
   "metadata": {},
   "source": [
    "Note that BASE is aware of Jupyter xeus/cling and will run with ANSI escape codes enabled automatically."
   ]
  },
  {
   "cell_type": "code",
   "execution_count": 4,
   "metadata": {},
   "outputs": [],
   "source": [
    "#include <base/string/FormatOutputStream.h>"
   ]
  },
  {
   "cell_type": "code",
   "execution_count": 5,
   "metadata": {},
   "outputs": [
    {
     "data": {
      "text/plain": [
       "true"
      ]
     },
     "execution_count": 5,
     "metadata": {},
     "output_type": "execute_result"
    }
   ],
   "source": [
    "fout.isANSITerminal()"
   ]
  },
  {
   "cell_type": "markdown",
   "metadata": {},
   "source": [
    "You cannot `#include` multiple testsuite apps since the `main()/start()` functions would conflict. Also note that cpp files are not protected against multiple inclusions `#pragma once` and they could have some other conflicting code in them. So we have to do a little magic with `_COM_AZURE_DEV__BASE__APPLICATION_STUB` if we really need to mix cpp's."
   ]
  },
  {
   "cell_type": "code",
   "execution_count": 6,
   "metadata": {},
   "outputs": [],
   "source": [
    "#undef _COM_AZURE_DEV__BASE__APPLICATION_STUB\n",
    "#define _COM_AZURE_DEV__BASE__APPLICATION_STUB(APPLICATION) _COM_AZURE_DEV__BASE__APPLICATION_ENTRY(APPLICATION, start_ls)\n",
    "#include <base/testsuite/ls.cpp>\n",
    "#undef _COM_AZURE_DEV__BASE__APPLICATION_STUB"
   ]
  },
  {
   "cell_type": "code",
   "execution_count": 7,
   "metadata": {},
   "outputs": [
    {
     "name": "stdout",
     "output_type": "stream",
     "text": [
      "drwxr-xr-x   17 fonseca    staff               Feb 19 22:40 \u001b[34m.\u001b[0m\n",
      "drwxr-xr-x   54 fonseca    staff               Feb 19 16:00 \u001b[34m..\u001b[0m\n",
      "-rw-r--r--    1 fonseca    staff          8695 Feb 18 23:44 Module.ipynb\n",
      "-rw-r--r--    1 fonseca    staff          6561 Feb 19 16:11 Map.ipynb\n",
      "-rw-r--r--    1 fonseca    staff          6031 Feb 19 16:55 HTTPSRequest.ipynb\n",
      "-rw-r--r--    1 fonseca    staff          7133 Feb 19 16:06 Set.ipynb\n",
      "-rw-r--r--    1 fonseca    staff          3522 Feb 18 22:57 Translate.ipynb\n",
      "-rw-r--r--    1 fonseca    staff         10766 Feb 19 00:35 List.ipynb\n",
      "drwxr-x---    4 fonseca    staff               Feb 18 22:27 \u001b[34munittests\u001b[0m\n",
      "-rw-r--r--    1 fonseca    staff          2234 Feb 18 22:36 Info.ipynb\n",
      "-rw-r--r--    1 fonseca    staff          6515 Feb 19 22:40 Testsuite.ipynb\n",
      "-rw-r--r--    1 fonseca    staff          4926 Feb 19 15:49 Exception.ipynb\n",
      "-rw-r--r--    1 fonseca    staff          4930 Feb 19 17:25 Thread.ipynb\n",
      "drwxr-xr-x   15 fonseca    staff               Feb 19 20:20 \u001b[34m.ipynb_checkpoints\u001b[0m\n",
      "-rw-r--r--    1 fonseca    staff          4053 Feb 18 23:05 Format.ipynb\n",
      "-rw-r--r--    1 fonseca    staff          9639 Feb 19 15:58 Array.ipynb\n",
      "-rw-r--r--    1 fonseca    staff         27751 Feb 18 22:31 UnitTest.ipynb\n"
     ]
    }
   ],
   "source": [
    "start_ls();"
   ]
  },
  {
   "cell_type": "markdown",
   "metadata": {},
   "source": [
    "You can get a list of available apps like this (expecting notebook to be in sibling folder). Alternatively `!ls ../base/testsuite/*.cpp` may work."
   ]
  },
  {
   "cell_type": "code",
   "execution_count": 8,
   "metadata": {},
   "outputs": [],
   "source": [
    "// !ls ../testsuite/*.cpp"
   ]
  },
  {
   "cell_type": "code",
   "execution_count": null,
   "metadata": {},
   "outputs": [],
   "source": []
  }
 ],
 "metadata": {
  "kernelspec": {
   "display_name": "C++11",
   "language": "C++11",
   "name": "xcpp11"
  },
  "language_info": {
   "codemirror_mode": "text/x-c++src",
   "file_extension": ".cpp",
   "mimetype": "text/x-c++src",
   "name": "c++",
   "version": "11"
  }
 },
 "nbformat": 4,
 "nbformat_minor": 4
}
