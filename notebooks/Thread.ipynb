{
 "cells": [
  {
   "cell_type": "markdown",
   "metadata": {},
   "source": [
    "## Threading\n",
    "\n",
    "BASE provides full threading support with all the common synchronization features."
   ]
  },
  {
   "cell_type": "code",
   "execution_count": 1,
   "metadata": {},
   "outputs": [],
   "source": [
    "#include <base/concurrency/Thread.h>"
   ]
  },
  {
   "cell_type": "code",
   "execution_count": 2,
   "metadata": {},
   "outputs": [],
   "source": [
    "using namespace base;"
   ]
  },
  {
   "cell_type": "markdown",
   "metadata": {},
   "source": [
    "Lets get some info about the current thread."
   ]
  },
  {
   "cell_type": "code",
   "execution_count": 3,
   "metadata": {},
   "outputs": [
    {
     "data": {
      "text/plain": [
       "true"
      ]
     },
     "execution_count": 3,
     "metadata": {},
     "output_type": "execute_result"
    }
   ],
   "source": [
    "Thread::getThread()->isMainThread()"
   ]
  },
  {
   "cell_type": "code",
   "execution_count": 4,
   "metadata": {},
   "outputs": [
    {
     "data": {
      "text/plain": [
       "0"
      ]
     },
     "execution_count": 4,
     "metadata": {},
     "output_type": "execute_result"
    }
   ],
   "source": [
    "Thread::getThread()->getThreadId()"
   ]
  },
  {
   "cell_type": "code",
   "execution_count": 5,
   "metadata": {},
   "outputs": [
    {
     "data": {
      "text/plain": [
       "\"main\""
      ]
     },
     "execution_count": 5,
     "metadata": {},
     "output_type": "execute_result"
    }
   ],
   "source": [
    "Thread::getThreadName()"
   ]
  },
  {
   "cell_type": "markdown",
   "metadata": {},
   "source": [
    "We can sleep for a bit."
   ]
  },
  {
   "cell_type": "code",
   "execution_count": 6,
   "metadata": {},
   "outputs": [],
   "source": [
    "Thread::microsleep(500 * 1000)"
   ]
  },
  {
   "cell_type": "code",
   "execution_count": 7,
   "metadata": {},
   "outputs": [],
   "source": [
    "#include <base/concurrency/MutualExclusion.h>"
   ]
  },
  {
   "cell_type": "code",
   "execution_count": 8,
   "metadata": {},
   "outputs": [],
   "source": [
    "MutualExclusion mutex;"
   ]
  },
  {
   "cell_type": "code",
   "execution_count": 9,
   "metadata": {},
   "outputs": [],
   "source": [
    "#include <base/string/ANSIEscapeSequence.h>\n",
    "#include <base/Random.h>"
   ]
  },
  {
   "cell_type": "code",
   "execution_count": 10,
   "metadata": {},
   "outputs": [],
   "source": [
    "class MyTask : public Thread {\n",
    "public:\n",
    "\n",
    "  String id;\n",
    "  ANSIEscapeSequence::Color color = ANSIEscapeSequence::BLUE;\n",
    "\n",
    "  void run()\n",
    "  {\n",
    "    for (unsigned int i = 0; i < 10; ++i) {\n",
    "      {\n",
    "        ExclusiveSynchronize<MutualExclusion> _guard(mutex);\n",
    "        fout << setForeground(color) << id << \"/\" << i << SP << normal() << FLUSH;\n",
    "      }\n",
    "      Thread::microsleep((Random::random<unsigned int>() % 1000000) + 125 * 1000);\n",
    "    }\n",
    "  }\n",
    "};"
   ]
  },
  {
   "cell_type": "code",
   "execution_count": 11,
   "metadata": {},
   "outputs": [],
   "source": [
    "MyTask task1;\n",
    "task1.id = \"TASK#1\";\n",
    "task1.color = ANSIEscapeSequence::BLUE;"
   ]
  },
  {
   "cell_type": "code",
   "execution_count": 12,
   "metadata": {},
   "outputs": [],
   "source": [
    "MyTask task2;\n",
    "task2.id = \"TASK#2\";\n",
    "task2.color = ANSIEscapeSequence::GREEN;"
   ]
  },
  {
   "cell_type": "markdown",
   "metadata": {},
   "source": [
    "Start tasks and wait for both to complete."
   ]
  },
  {
   "cell_type": "code",
   "execution_count": 13,
   "metadata": {},
   "outputs": [
    {
     "name": "stdout",
     "output_type": "stream",
     "text": [
      "\u001b[34mTASK#1/0 \u001b[0m\u001b[32mTASK#2/0 \u001b[0m\u001b[32mTASK#2/1 \u001b[0m\u001b[32mTASK#2/2 \u001b[0m\u001b[34mTASK#1/1 \u001b[0m\u001b[32mTASK#2/3 \u001b[0m\u001b[34mTASK#1/2 \u001b[0m\u001b[32mTASK#2/4 \u001b[0m\u001b[32mTASK#2/5 \u001b[0m\u001b[34mTASK#1/3 \u001b[0m\u001b[34mTASK#1/4 \u001b[0m\u001b[34mTASK#1/5 \u001b[0m\u001b[34mTASK#1/6 \u001b[0m\u001b[32mTASK#2/6 \u001b[0m\u001b[34mTASK#1/7 \u001b[0m\u001b[34mTASK#1/8 \u001b[0m\u001b[34mTASK#1/9 \u001b[0m\u001b[32mTASK#2/7 \u001b[0m\u001b[32mTASK#2/8 \u001b[0m\u001b[32mTASK#2/9 \u001b[0m"
     ]
    }
   ],
   "source": [
    "task1.start();\n",
    "task2.start();\n",
    "task1.join();\n",
    "task2.join();"
   ]
  },
  {
   "cell_type": "code",
   "execution_count": null,
   "metadata": {},
   "outputs": [],
   "source": []
  }
 ],
 "metadata": {
  "kernelspec": {
   "display_name": "C++11",
   "language": "C++11",
   "name": "xcpp11"
  },
  "language_info": {
   "codemirror_mode": "text/x-c++src",
   "file_extension": ".cpp",
   "mimetype": "text/x-c++src",
   "name": "c++",
   "version": "11"
  }
 },
 "nbformat": 4,
 "nbformat_minor": 4
}
