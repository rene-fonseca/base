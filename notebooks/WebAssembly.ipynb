{
 "cells": [
  {
   "cell_type": "markdown",
   "metadata": {},
   "source": [
    "## Web Assembly"
   ]
  },
  {
   "cell_type": "code",
   "execution_count": 1,
   "metadata": {},
   "outputs": [],
   "source": [
    "#include <base/net/HTTPSRequest.h>\n",
    "#include <base/string/Format.h>"
   ]
  },
  {
   "cell_type": "code",
   "execution_count": 2,
   "metadata": {},
   "outputs": [],
   "source": [
    "using namespace base;"
   ]
  },
  {
   "cell_type": "code",
   "execution_count": 3,
   "metadata": {},
   "outputs": [],
   "source": [
    "String url = \"https://github.com/rene-fonseca/docker-webassembly/raw/master/wasmtime/hello\";"
   ]
  },
  {
   "cell_type": "code",
   "execution_count": 4,
   "metadata": {},
   "outputs": [],
   "source": [
    "auto response = HTTPSRequest::load(url)"
   ]
  },
  {
   "cell_type": "code",
   "execution_count": 5,
   "metadata": {},
   "outputs": [],
   "source": [
    "#include <base/string/FormatOutputStream.h>"
   ]
  },
  {
   "cell_type": "code",
   "execution_count": 6,
   "metadata": {},
   "outputs": [
    {
     "data": {
      "text/plain": [
       "\"application/octet-stream\""
      ]
     },
     "execution_count": 6,
     "metadata": {},
     "output_type": "execute_result"
    }
   ],
   "source": [
    "response.getSecond()"
   ]
  },
  {
   "cell_type": "code",
   "execution_count": 7,
   "metadata": {},
   "outputs": [],
   "source": [
    "#include <base/webassembly/WebAssembly.h>"
   ]
  },
  {
   "cell_type": "code",
   "execution_count": 8,
   "metadata": {},
   "outputs": [
    {
     "data": {
      "text/plain": [
       "31259"
      ]
     },
     "execution_count": 8,
     "metadata": {},
     "output_type": "execute_result"
    }
   ],
   "source": [
    "response.getFirst().getLength()"
   ]
  },
  {
   "cell_type": "code",
   "execution_count": 9,
   "metadata": {},
   "outputs": [],
   "source": [
    "WebAssembly wasm;"
   ]
  },
  {
   "cell_type": "code",
   "execution_count": 10,
   "metadata": {},
   "outputs": [
    {
     "data": {
      "text/plain": [
       "true"
      ]
     },
     "execution_count": 10,
     "metadata": {},
     "output_type": "execute_result"
    }
   ],
   "source": [
    "wasm.load(response.getFirst())"
   ]
  },
  {
   "cell_type": "code",
   "execution_count": 11,
   "metadata": {},
   "outputs": [
    {
     "name": "stdout",
     "output_type": "stream",
     "text": [
      "IMPORTS:\n",
      "  [0] FUNCTION [i32] wasi_unstable!fd_prestat_get(i32, i32)\n",
      "  [1] FUNCTION [i32] wasi_unstable!fd_prestat_dir_name(i32, i32, i32)\n",
      "  [2] FUNCTION [] wasi_unstable!proc_exit(i32)\n",
      "  [3] FUNCTION [i32] wasi_unstable!fd_fdstat_get(i32, i32)\n",
      "  [4] FUNCTION [i32] wasi_unstable!fd_close(i32)\n",
      "  [5] FUNCTION [i32] wasi_unstable!args_sizes_get(i32, i32)\n",
      "  [6] FUNCTION [i32] wasi_unstable!args_get(i32, i32)\n",
      "  [7] FUNCTION [i32] wasi_unstable!fd_write(i32, i32, i32, i32)\n",
      "  [8] FUNCTION [i32] wasi_unstable!fd_seek(i32, i64, i32, i32)\n"
     ]
    }
   ],
   "source": [
    "fout << \"IMPORTS:\" << EOL;\n",
    "for (const auto& s : wasm.getImports()) {\n",
    "  fout << \"  \" << \"[\" << s.index << \"] \";\n",
    "  switch (s.externType) {\n",
    "  case WebAssembly::EXTERN_FUNCTION:\n",
    "    fout << \"FUNCTION \" << WebAssembly::toString(s) << ENDL;\n",
    "    break;\n",
    "  case WebAssembly::EXTERN_GLOBAL:\n",
    "    fout << \"GLOBAL \" << s.name << ENDL;\n",
    "    break;\n",
    "  case WebAssembly::EXTERN_TABLE:\n",
    "    fout << \"TABLE \" << s.name << ENDL;\n",
    "    break;\n",
    "  case WebAssembly::EXTERN_MEMORY:\n",
    "    fout << \"MEMORY \" << s.name << ENDL;\n",
    "    break;\n",
    "  default:\n",
    "    fout << \"?\" << \" \" << s.name << ENDL;\n",
    "  }\n",
    "}"
   ]
  },
  {
   "cell_type": "code",
   "execution_count": 12,
   "metadata": {},
   "outputs": [
    {
     "data": {
      "text/plain": [
       "true"
      ]
     },
     "execution_count": 12,
     "metadata": {},
     "output_type": "execute_result"
    }
   ],
   "source": [
    "wasm.makeInstance(true)"
   ]
  },
  {
   "cell_type": "code",
   "execution_count": 13,
   "metadata": {},
   "outputs": [
    {
     "name": "stdout",
     "output_type": "stream",
     "text": [
      "EXPORTS:\n",
      "  [0] MEMORY SIZE=131072\n",
      "  [1] FUNCTION [] _start()\n"
     ]
    }
   ],
   "source": [
    "fout << \"EXPORTS:\" << EOL;\n",
    "for (const auto& s : wasm.getExports()) {\n",
    "  fout << \"  \" << \"[\" << s.index << \"] \";\n",
    "  switch (s.externType) {\n",
    "  case WebAssembly::EXTERN_FUNCTION:\n",
    "    fout << \"FUNCTION \" << WebAssembly::toString(s) << ENDL;\n",
    "    break;\n",
    "  case WebAssembly::EXTERN_GLOBAL:\n",
    "    fout << \"GLOBAL \" << s.name << ENDL;\n",
    "    break;\n",
    "  case WebAssembly::EXTERN_TABLE:\n",
    "    fout << \"TABLE \" << s.name << ENDL;\n",
    "    break;\n",
    "  case WebAssembly::EXTERN_MEMORY:\n",
    "    fout << \"MEMORY SIZE=\" << s.memorySize << ENDL;\n",
    "    break;\n",
    "  default:\n",
    "    fout << \"?\" << \" \" << s.name << ENDL;\n",
    "  }\n",
    "}"
   ]
  },
  {
   "cell_type": "code",
   "execution_count": 14,
   "metadata": {},
   "outputs": [
    {
     "name": "stdout",
     "output_type": "stream",
     "text": [
      "WebAssemble: calling: _start()\n",
      "wasi_unstable!fd_prestat_get(i32: 3 = 0x3, i32: 70808 = 0x11498) -> (i32: 0 = 0x0) INVOKES=1\n"
     ]
    },
    {
     "ename": "Error",
     "evalue": "",
     "output_type": "error",
     "traceback": [
      "Error: "
     ]
    }
   ],
   "source": [
    "wasm.call(\"_start\")"
   ]
  },
  {
   "cell_type": "code",
   "execution_count": null,
   "metadata": {},
   "outputs": [],
   "source": []
  }
 ],
 "metadata": {
  "kernelspec": {
   "display_name": "C++17",
   "language": "C++17",
   "name": "xcpp17"
  },
  "language_info": {
   "codemirror_mode": "text/x-c++src",
   "file_extension": ".cpp",
   "mimetype": "text/x-c++src",
   "name": "c++",
   "version": "17"
  }
 },
 "nbformat": 4,
 "nbformat_minor": 4
}
