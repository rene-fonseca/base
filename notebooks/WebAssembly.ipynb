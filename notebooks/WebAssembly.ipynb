{
 "cells": [
  {
   "cell_type": "markdown",
   "metadata": {},
   "source": [
    "## Web Assembly"
   ]
  },
  {
   "cell_type": "code",
   "execution_count": 1,
   "metadata": {},
   "outputs": [],
   "source": [
    "#include <base/net/HTTPSRequest.h>\n",
    "#include <base/string/Format.h>\n",
    "#include <base/string/FormatOutputStream.h>\n",
    "#include <base/webassembly/WebAssembly.h>"
   ]
  },
  {
   "cell_type": "code",
   "execution_count": 2,
   "metadata": {},
   "outputs": [],
   "source": [
    "using namespace base;"
   ]
  },
  {
   "cell_type": "code",
   "execution_count": 3,
   "metadata": {},
   "outputs": [],
   "source": [
    "String url = \"https://github.com/rene-fonseca/docker-webassembly/raw/master/wasmtime/hello\";"
   ]
  },
  {
   "cell_type": "code",
   "execution_count": 4,
   "metadata": {},
   "outputs": [],
   "source": [
    "auto response = HTTPSRequest::load(url)"
   ]
  },
  {
   "cell_type": "code",
   "execution_count": 5,
   "metadata": {},
   "outputs": [
    {
     "data": {
      "text/plain": [
       "\"application/octet-stream\""
      ]
     },
     "execution_count": 5,
     "metadata": {},
     "output_type": "execute_result"
    }
   ],
   "source": [
    "response.getSecond()"
   ]
  },
  {
   "cell_type": "code",
   "execution_count": 6,
   "metadata": {},
   "outputs": [
    {
     "data": {
      "text/plain": [
       "31259"
      ]
     },
     "execution_count": 6,
     "metadata": {},
     "output_type": "execute_result"
    }
   ],
   "source": [
    "response.getFirst().getLength()"
   ]
  },
  {
   "cell_type": "code",
   "execution_count": 7,
   "metadata": {},
   "outputs": [
    {
     "data": {
      "text/plain": [
       "true"
      ]
     },
     "execution_count": 7,
     "metadata": {},
     "output_type": "execute_result"
    }
   ],
   "source": [
    "WebAssembly::isSupported()"
   ]
  },
  {
   "cell_type": "code",
   "execution_count": 8,
   "metadata": {},
   "outputs": [],
   "source": [
    "WebAssembly wasm;"
   ]
  },
  {
   "cell_type": "code",
   "execution_count": 9,
   "metadata": {},
   "outputs": [
    {
     "data": {
      "text/plain": [
       "\"Wasmtime 0.12\""
      ]
     },
     "execution_count": 9,
     "metadata": {},
     "output_type": "execute_result"
    }
   ],
   "source": [
    "wasm.getEngine()"
   ]
  },
  {
   "cell_type": "code",
   "execution_count": 10,
   "metadata": {},
   "outputs": [
    {
     "data": {
      "text/plain": [
       "true"
      ]
     },
     "execution_count": 10,
     "metadata": {},
     "output_type": "execute_result"
    }
   ],
   "source": [
    "wasm.isValid(response.getFirst())"
   ]
  },
  {
   "cell_type": "code",
   "execution_count": 11,
   "metadata": {},
   "outputs": [
    {
     "data": {
      "text/plain": [
       "true"
      ]
     },
     "execution_count": 11,
     "metadata": {},
     "output_type": "execute_result"
    }
   ],
   "source": [
    "wasm.load(response.getFirst())"
   ]
  },
  {
   "cell_type": "code",
   "execution_count": 12,
   "metadata": {},
   "outputs": [
    {
     "name": "stdout",
     "output_type": "stream",
     "text": [
      "IMPORTS:\n",
      "  [0] FUNCTION \u001b[31m\u001b[3m[i32] \u001b[0m\u001b[32mwasi_unstable!\u001b[0m\u001b[1m\u001b[34mfd_prestat_get\u001b[22m\u001b[3m(i32, i32)\u001b[0m\n",
      "  [1] FUNCTION \u001b[31m\u001b[3m[i32] \u001b[0m\u001b[32mwasi_unstable!\u001b[0m\u001b[1m\u001b[34mfd_prestat_dir_name\u001b[22m\u001b[3m(i32, i32, i32)\u001b[0m\n",
      "  [2] FUNCTION \u001b[31m\u001b[3m[] \u001b[0m\u001b[32mwasi_unstable!\u001b[0m\u001b[1m\u001b[34mproc_exit\u001b[22m\u001b[3m(i32)\u001b[0m\n",
      "  [3] FUNCTION \u001b[31m\u001b[3m[i32] \u001b[0m\u001b[32mwasi_unstable!\u001b[0m\u001b[1m\u001b[34mfd_fdstat_get\u001b[22m\u001b[3m(i32, i32)\u001b[0m\n",
      "  [4] FUNCTION \u001b[31m\u001b[3m[i32] \u001b[0m\u001b[32mwasi_unstable!\u001b[0m\u001b[1m\u001b[34mfd_close\u001b[22m\u001b[3m(i32)\u001b[0m\n",
      "  [5] FUNCTION \u001b[31m\u001b[3m[i32] \u001b[0m\u001b[32mwasi_unstable!\u001b[0m\u001b[1m\u001b[34margs_sizes_get\u001b[22m\u001b[3m(i32, i32)\u001b[0m\n",
      "  [6] FUNCTION \u001b[31m\u001b[3m[i32] \u001b[0m\u001b[32mwasi_unstable!\u001b[0m\u001b[1m\u001b[34margs_get\u001b[22m\u001b[3m(i32, i32)\u001b[0m\n",
      "  [7] FUNCTION \u001b[31m\u001b[3m[i32] \u001b[0m\u001b[32mwasi_unstable!\u001b[0m\u001b[1m\u001b[34mfd_write\u001b[22m\u001b[3m(i32, i32, i32, i32)\u001b[0m\n",
      "  [8] FUNCTION \u001b[31m\u001b[3m[i32] \u001b[0m\u001b[32mwasi_unstable!\u001b[0m\u001b[1m\u001b[34mfd_seek\u001b[22m\u001b[3m(i32, i64, i32, i32)\u001b[0m\n"
     ]
    }
   ],
   "source": [
    "fout << \"IMPORTS:\" << EOL;\n",
    "for (const auto& s : wasm.getImports()) {\n",
    "  fout << \"  \" << \"[\" << s.index << \"] \";\n",
    "  switch (s.externType) {\n",
    "  case WebAssembly::EXTERN_FUNCTION:\n",
    "    fout << \"FUNCTION \" << WebAssembly::toString(s, true) << ENDL;\n",
    "    break;\n",
    "  case WebAssembly::EXTERN_GLOBAL:\n",
    "    fout << \"GLOBAL \" << s.name << ENDL;\n",
    "    break;\n",
    "  case WebAssembly::EXTERN_TABLE:\n",
    "    fout << \"TABLE \" << s.name << ENDL;\n",
    "    break;\n",
    "  case WebAssembly::EXTERN_MEMORY:\n",
    "    fout << \"MEMORY \" << s.name << ENDL;\n",
    "    break;\n",
    "  default:\n",
    "    fout << \"?\" << \" \" << s.name << ENDL;\n",
    "  }\n",
    "}"
   ]
  },
  {
   "cell_type": "code",
   "execution_count": 13,
   "metadata": {},
   "outputs": [
    {
     "data": {
      "text/plain": [
       "true"
      ]
     },
     "execution_count": 13,
     "metadata": {},
     "output_type": "execute_result"
    }
   ],
   "source": [
    "wasm.makeWASIInstance(nullptr, nullptr, nullptr)"
   ]
  },
  {
   "cell_type": "code",
   "execution_count": 14,
   "metadata": {},
   "outputs": [
    {
     "name": "stdout",
     "output_type": "stream",
     "text": [
      "EXPORTS:\n"
     ]
    }
   ],
   "source": [
    "fout << \"EXPORTS:\" << ENDL;\n",
    "for (const auto& s : wasm.getExports()) {\n",
    "  fout << \"  \" << \"[\" << s.index << \"] \";\n",
    "  switch (s.externType) {\n",
    "  case WebAssembly::EXTERN_FUNCTION:\n",
    "    fout << \"FUNCTION \" << WebAssembly::toString(s, true) << ENDL;\n",
    "    break;\n",
    "  case WebAssembly::EXTERN_GLOBAL:\n",
    "    fout << \"GLOBAL \" << s.name << ENDL;\n",
    "    break;\n",
    "  case WebAssembly::EXTERN_TABLE:\n",
    "    fout << \"TABLE \" << s.name << ENDL;\n",
    "    break;\n",
    "  case WebAssembly::EXTERN_MEMORY:\n",
    "    fout << \"MEMORY SIZE=\" << s.memorySize << ENDL;\n",
    "    break;\n",
    "  default:\n",
    "    fout << \"?\" << \" \" << s.name << ENDL;\n",
    "  }\n",
    "}"
   ]
  },
  {
   "cell_type": "code",
   "execution_count": 15,
   "metadata": {},
   "outputs": [],
   "source": [
    "// wasm.call(\"_start\")"
   ]
  },
  {
   "cell_type": "code",
   "execution_count": 16,
   "metadata": {},
   "outputs": [],
   "source": [
    "const char* wat = R\"WAT((module\n",
    "    ;; Import the required fd_write WASI function which will write the given io vectors to stdout\n",
    "    ;; The function signature for fd_write is:\n",
    "    ;; (File Descriptor, *iovs, iovs_len, nwritten) -> Returns number of bytes written\n",
    "    (import \"wasi_unstable\" \"fd_write\" (func $fd_write (param i32 i32 i32 i32) (result i32)))\n",
    "\n",
    "    (memory 1)\n",
    "    (export \"memory\" (memory 0))\n",
    "\n",
    "    ;; Write 'hello world\\n' to memory at an offset of 8 bytes\n",
    "    ;; Note the trailing newline which is required for the text to appear\n",
    "    (data (i32.const 8) \"hello world\\n\")\n",
    "\n",
    "    (func $main (export \"_start\")\n",
    "        ;; Creating a new io vector within linear memory\n",
    "        (i32.store (i32.const 0) (i32.const 8))  ;; iov.iov_base - This is a pointer to the start of the 'hello world\\n' string\n",
    "        (i32.store (i32.const 4) (i32.const 12))  ;; iov.iov_len - The length of the 'hello world\\n' string\n",
    "\n",
    "        (call $fd_write\n",
    "            (i32.const 1) ;; file_descriptor - 1 for stdout\n",
    "            (i32.const 0) ;; *iovs - The pointer to the iov array, which is stored at memory location 0\n",
    "            (i32.const 1) ;; iovs_len - We're printing 1 string stored in an iov - so one.\n",
    "            (i32.const 20) ;; nwritten - A place in memory to store the number of bytes written\n",
    "        )\n",
    "        drop ;; Discard the number of bytes written from the top of the stack\n",
    "    )\n",
    "))WAT\";"
   ]
  },
  {
   "cell_type": "code",
   "execution_count": 17,
   "metadata": {},
   "outputs": [],
   "source": [
    "WebAssembly wasm2;"
   ]
  },
  {
   "cell_type": "markdown",
   "metadata": {},
   "source": [
    "Convert Text format (WAT) to WASM."
   ]
  },
  {
   "cell_type": "code",
   "execution_count": 18,
   "metadata": {},
   "outputs": [
    {
     "name": "stdout",
     "output_type": "stream",
     "text": [
      "WASM size: 157\n"
     ]
    }
   ],
   "source": [
    "try {\n",
    "  String wasm = WebAssembly::convertWATToWASM(wat);\n",
    "  fout << \"WASM size: \" << wasm.getLength() << ENDL;\n",
    "} catch (WebAssembly::WebAssemblyException& e) {\n",
    "  ferr << e << ENDL;\n",
    "}"
   ]
  },
  {
   "cell_type": "markdown",
   "metadata": {},
   "source": [
    "We can load either WAT and WASM with loadAny() so we do not have to convert WAT To WASM explicitly."
   ]
  },
  {
   "cell_type": "code",
   "execution_count": 19,
   "metadata": {},
   "outputs": [
    {
     "data": {
      "text/plain": [
       "true"
      ]
     },
     "execution_count": 19,
     "metadata": {},
     "output_type": "execute_result"
    }
   ],
   "source": [
    "wasm2.loadAny(wat)"
   ]
  },
  {
   "cell_type": "code",
   "execution_count": 20,
   "metadata": {},
   "outputs": [
    {
     "data": {
      "text/plain": [
       "true"
      ]
     },
     "execution_count": 20,
     "metadata": {},
     "output_type": "execute_result"
    }
   ],
   "source": [
    "wasm2.makeInstance(true)"
   ]
  },
  {
   "cell_type": "code",
   "execution_count": 21,
   "metadata": {},
   "outputs": [
    {
     "name": "stdout",
     "output_type": "stream",
     "text": [
      "EXPORTS:\n",
      "  [0] MEMORY SIZE=65536\n",
      "  [1] FUNCTION \u001b[31m\u001b[3m[] \u001b[0m\u001b[32m\u001b[0m\u001b[1m\u001b[34m_start\u001b[22m\u001b[3m()\u001b[0m\n"
     ]
    }
   ],
   "source": [
    "fout << \"EXPORTS:\" << ENDL;\n",
    "for (const auto& s : wasm2.getExports()) {\n",
    "  fout << \"  \" << \"[\" << s.index << \"] \";\n",
    "  switch (s.externType) {\n",
    "  case WebAssembly::EXTERN_FUNCTION:\n",
    "    fout << \"FUNCTION \" << WebAssembly::toString(s, true) << ENDL;\n",
    "    break;\n",
    "  case WebAssembly::EXTERN_GLOBAL:\n",
    "    fout << \"GLOBAL \" << s.name << ENDL;\n",
    "    break;\n",
    "  case WebAssembly::EXTERN_TABLE:\n",
    "    fout << \"TABLE \" << s.name << ENDL;\n",
    "    break;\n",
    "  case WebAssembly::EXTERN_MEMORY:\n",
    "    fout << \"MEMORY SIZE=\" << s.memorySize << ENDL;\n",
    "    break;\n",
    "  default:\n",
    "    fout << \"?\" << \" \" << s.name << ENDL;\n",
    "  }\n",
    "}"
   ]
  },
  {
   "cell_type": "code",
   "execution_count": 22,
   "metadata": {},
   "outputs": [
    {
     "data": {
      "text/plain": [
       " [TYPE=void]"
      ]
     },
     "execution_count": 22,
     "metadata": {},
     "output_type": "execute_result"
    }
   ],
   "source": [
    "wasm2.call(\"_start\")"
   ]
  },
  {
   "cell_type": "code",
   "execution_count": 23,
   "metadata": {},
   "outputs": [],
   "source": [
    "const char* addWAT = R\"WAT((module\n",
    "  (type (;0;) (func (param i32 i32) (result i32)))\n",
    "  (func $add (type 0) (param i32 i32) (result i32)\n",
    "    get_local 1\n",
    "    get_local 0\n",
    "    i32.add)\n",
    "  (memory 1)\n",
    "  (export \"memory\" (memory 0))\n",
    "  (export \"add\" (func $add))\n",
    "))WAT\";"
   ]
  },
  {
   "cell_type": "code",
   "execution_count": 24,
   "metadata": {},
   "outputs": [
    {
     "data": {
      "text/plain": [
       "true"
      ]
     },
     "execution_count": 24,
     "metadata": {},
     "output_type": "execute_result"
    }
   ],
   "source": [
    "WebAssembly wasm3;\n",
    "wasm3.loadAny(addWAT) && wasm3.makeInstance()"
   ]
  },
  {
   "cell_type": "code",
   "execution_count": 25,
   "metadata": {},
   "outputs": [
    {
     "name": "stdout",
     "output_type": "stream",
     "text": [
      "EXPORTS:\n",
      "  [0] MEMORY SIZE=65536\n",
      "  [1] FUNCTION \u001b[31m\u001b[3m[i32] \u001b[0m\u001b[32m\u001b[0m\u001b[1m\u001b[34madd\u001b[22m\u001b[3m(i32, i32)\u001b[0m\n"
     ]
    }
   ],
   "source": [
    "fout << \"EXPORTS:\" << ENDL;\n",
    "for (const auto& s : wasm3.getExports()) {\n",
    "  fout << \"  \" << \"[\" << s.index << \"] \";\n",
    "  switch (s.externType) {\n",
    "  case WebAssembly::EXTERN_FUNCTION:\n",
    "    fout << \"FUNCTION \" << WebAssembly::toString(s, true) << ENDL;\n",
    "    break;\n",
    "  case WebAssembly::EXTERN_GLOBAL:\n",
    "    fout << \"GLOBAL \" << s.name << ENDL;\n",
    "    break;\n",
    "  case WebAssembly::EXTERN_TABLE:\n",
    "    fout << \"TABLE \" << s.name << ENDL;\n",
    "    break;\n",
    "  case WebAssembly::EXTERN_MEMORY:\n",
    "    fout << \"MEMORY SIZE=\" << s.memorySize << ENDL;\n",
    "    break;\n",
    "  default:\n",
    "    fout << \"?\" << \" \" << s.name << ENDL;\n",
    "  }\n",
    "}"
   ]
  },
  {
   "cell_type": "code",
   "execution_count": 26,
   "metadata": {},
   "outputs": [
    {
     "data": {
      "text/html": [
       "<table><tr><th colspan=\"2\" style=\"text-align: center\">base::Array<base::WebAssembly::Symbol> [SIZE=0]</th></tr><tr><th style=\"text-align: right\">Index</th><th style=\"text-align: left\">Value</th></tr><table>"
      ]
     },
     "execution_count": 26,
     "metadata": {},
     "output_type": "execute_result"
    }
   ],
   "source": [
    "wasm3.getImports()"
   ]
  },
  {
   "cell_type": "code",
   "execution_count": 27,
   "metadata": {},
   "outputs": [
    {
     "data": {
      "text/html": [
       "<table><tr><th colspan=\"2\" style=\"text-align: center\">base::Array<base::WebAssembly::Symbol> [SIZE=2]</th></tr><tr><th style=\"text-align: right\">Index</th><th style=\"text-align: left\">Value</th></tr><tr><td style=\"text-align: right\">0</td><td style=\"text-align: left\">MEMORY SIZE=65536</td></tr><tr><td style=\"text-align: right\">1</td><td style=\"text-align: left\">[i32] add(i32, i32)</td></tr><table>"
      ]
     },
     "execution_count": 27,
     "metadata": {},
     "output_type": "execute_result"
    }
   ],
   "source": [
    "wasm3.getExports()"
   ]
  },
  {
   "cell_type": "code",
   "execution_count": 28,
   "metadata": {},
   "outputs": [
    {
     "data": {
      "text/plain": [
       "3333"
      ]
     },
     "execution_count": 28,
     "metadata": {},
     "output_type": "execute_result"
    }
   ],
   "source": [
    "wasm3.invoke<int>(\"add\", -1234, 4567)"
   ]
  },
  {
   "cell_type": "code",
   "execution_count": null,
   "metadata": {},
   "outputs": [],
   "source": []
  }
 ],
 "metadata": {
  "kernelspec": {
   "display_name": "C++17",
   "language": "C++17",
   "name": "xcpp17"
  },
  "language_info": {
   "codemirror_mode": "text/x-c++src",
   "file_extension": ".cpp",
   "mimetype": "text/x-c++src",
   "name": "c++",
   "version": "17"
  }
 },
 "nbformat": 4,
 "nbformat_minor": 4
}
